{
  "cells": [
    {
      "cell_type": "markdown",
      "metadata": {
        "id": "KdERlTpFuL5V"
      },
      "source": [
        "# Exercises"
      ]
    },
    {
      "cell_type": "markdown",
      "metadata": {
        "id": "to-gsrQyuL5Z"
      },
      "source": [
        "### #1 - Calculate the BMI (body mass index) on the two lists below using NDArrays..."
      ]
    },
    {
      "cell_type": "code",
      "execution_count": 1,
      "metadata": {
        "id": "iZlf9DzeuL5a"
      },
      "outputs": [
        {
          "name": "stdout",
          "output_type": "stream",
          "text": [
            "[16.86620458 17.87755102 18.82562984 19.71450617 20.54794521 21.32943755\n",
            " 22.06222222]\n"
          ]
        }
      ],
      "source": [
        "import numpy as np\n",
        "# formula = weight / (height**2) * 730\n",
        "height = [69, 70, 71, 72, 73, 74, 75]\n",
        "weight = [110, 120, 130, 140, 150, 160, 170]\n",
        "\n",
        "arr_height = np.array([69, 70, 71, 72, 73, 74, 75])\n",
        "arr_weight = np.array([110, 120, 130, 140, 150, 160, 170])\n",
        "\n",
        "BMI = arr_weight/(arr_height**2)*730\n",
        "\n",
        "print(BMI)\n",
        "\n"
      ]
    },
    {
      "cell_type": "markdown",
      "metadata": {
        "id": "RSsT8w8ouL5b"
      },
      "source": [
        "### #2 - Create a function that will take in two parameters and will create a random matrix based off of those parameters. Extra: Have additional parameters taken in that allow the user to choose the shape and data type of the matrix."
      ]
    },
    {
      "cell_type": "code",
      "execution_count": 7,
      "metadata": {
        "id": "ygFvj0aeuL5b"
      },
      "outputs": [
        {
          "name": "stdout",
          "output_type": "stream",
          "text": [
            "[[ 8  3]\n",
            " [ 4 16]\n",
            " [18 18]]\n"
          ]
        }
      ],
      "source": [
        "import numpy as np\n",
        "random_1 = np.random.randint(1,10,size=(1,3))\n",
        "random_2 = np.random.randint(10,20,size=(1,3))\n",
        "M = [random_1,random_2]\n",
        "\n",
        "x = int(input('Type in the row value of the reshape'))\n",
        "y = int(input('Type in the colum value of the reshape'))\n",
        "\n",
        "M_changed = np.reshape(M, (x,y))\n",
        "print(M_changed)\n",
        "\n"
      ]
    },
    {
      "cell_type": "markdown",
      "metadata": {
        "id": "e5mP1UX9uL5c"
      },
      "source": [
        "### #3 - Extra: Open and load the data in the two text files that have the Boston Red Sox hitting data for the past seasons. Compare the difference in the two years by putting the data into an NDArray and running a differencial operation on it. The column to look for will be SLG.\n",
        "\n",
        "Your output should display which year (either 2017 or 2018) was a better year based on SLG"
      ]
    },
    {
      "cell_type": "code",
      "execution_count": 10,
      "metadata": {
        "id": "iAExC-SjuL5c"
      },
      "outputs": [
        {
          "ename": "SyntaxError",
          "evalue": "(unicode error) 'unicodeescape' codec can't decode bytes in position 2-3: truncated \\UXXXXXXXX escape (398649882.py, line 20)",
          "output_type": "error",
          "traceback": [
            "\u001b[1;36m  Input \u001b[1;32mIn [10]\u001b[1;36m\u001b[0m\n\u001b[1;33m    bs2017 = load_data('C:\\Users\\jason\\Downloads\\redsox_2017_hitting.txt')\u001b[0m\n\u001b[1;37m                       ^\u001b[0m\n\u001b[1;31mSyntaxError\u001b[0m\u001b[1;31m:\u001b[0m (unicode error) 'unicodeescape' codec can't decode bytes in position 2-3: truncated \\UXXXXXXXX escape\n"
          ]
        }
      ],
      "source": [
        "import csv\n",
        "import numpy as np\n",
        "\n",
        "FIELDS = ['Rk', 'Pos', 'Name', 'Age', 'G', 'PA', 'AB', 'R', 'H', '2B', '3B', 'HR', 'RBI', 'SB', 'CS', \n",
        "          'BB', 'SO', 'BA', 'OBP', 'SLG', 'OPS', 'OPS+', 'TB', 'GDP', 'HBP', 'SH', 'SF', 'IBB']\n",
        "\n",
        "DATATYPES = [('rk', 'i'), ('pos', '|S25'), ('name', '|S25'), ('age', 'i'), ('g', 'i'), ('pa', 'i'), ('ab', 'i'),\n",
        "                ('r', 'i'), ('h', 'i'), ('2b', 'i'), ('3b', 'i'), ('hr', 'i'), ('rbi', 'i'), ('sb', 'i'), ('cs', 'i'),\n",
        "                ('bb', 'i'), ('so', 'i'), ('ba', 'f'), ('obp', 'f'), ('slg', 'f'), ('ops', 'f'), ('opsp', 'i'),\n",
        "                ('tb', 'i'), ('gdp', 'i'), ('hbp', 'i'), ('sh', 'i'), ('sf', 'i'), ('ibb', 'i')]\n",
        "\n",
        "#Use this function to actually open the data inside of a NDArray\n",
        "\n",
        "def load_data(filename, d = ','):\n",
        "    data = np.genfromtxt(filename,delimiter = d, skip_header = 1,\n",
        "                        usecols = np.arange(0,24),invalid_raise=False,\n",
        "                        names = FIELDS, dtype = DATATYPES)\n",
        "    return data\n",
        "\n",
        "bs2017 = load_data('C:\\Users\\jason\\Downloads\\redsox_2017_hitting.txt')\n",
        "bs2018 = load_data('C:\\Users\\jason\\Downloads\\redsox_2018_hitting.txt')\n",
        "\n",
        "difference = bs2018['SLG'] - bs2017['SLG']\n",
        "\n",
        "if difference>0:\n",
        "    print('2018 was a better year')\n",
        "elif difference==0:\n",
        "    print('The two years are the same')\n",
        "else:\n",
        "    print('2017 was a better year')\n"
      ]
    }
  ],
  "metadata": {
    "colab": {
      "name": "Copy of Data_Science_Day_1_Exercises-Day1- Homework.ipynb",
      "provenance": []
    },
    "kernelspec": {
      "display_name": "Python 3",
      "language": "python",
      "name": "python3"
    },
    "language_info": {
      "codemirror_mode": {
        "name": "ipython",
        "version": 3
      },
      "file_extension": ".py",
      "mimetype": "text/x-python",
      "name": "python",
      "nbconvert_exporter": "python",
      "pygments_lexer": "ipython3",
      "version": "3.8.2"
    },
    "vscode": {
      "interpreter": {
        "hash": "507317297c2071b102c545a8005e942338072417761d163cf09c6958a8af51fa"
      }
    }
  },
  "nbformat": 4,
  "nbformat_minor": 0
}
