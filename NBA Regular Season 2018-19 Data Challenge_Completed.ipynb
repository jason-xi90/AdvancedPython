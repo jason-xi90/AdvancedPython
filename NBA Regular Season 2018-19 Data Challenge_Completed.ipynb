{
 "cells": [
  {
   "cell_type": "markdown",
   "metadata": {},
   "source": [
    "# Nba Regular Season 2018-19 Data Challenge\n",
    "\n",
    "Your task will be to take the dataset given, and create an analysis answering the following 10 questions. This project will again test your knowledge of pandas in order to find the answers needed given the data you are presented with."
   ]
  },
  {
   "cell_type": "markdown",
   "metadata": {},
   "source": [
    "# What was the average age of player in the league?"
   ]
  },
  {
   "cell_type": "code",
   "execution_count": 1,
   "metadata": {},
   "outputs": [
    {
     "name": "stderr",
     "output_type": "stream",
     "text": [
      "C:\\Users\\jason\\AppData\\Local\\Temp\\ipykernel_10104\\875103177.py:6: FutureWarning: Dropping of nuisance columns in DataFrame reductions (with 'numeric_only=None') is deprecated; in a future version this will raise TypeError.  Select only valid columns before calling the reduction.\n",
      "  nba_data.mean()['Age']\n"
     ]
    },
    {
     "data": {
      "text/plain": [
       "25.900191938579656"
      ]
     },
     "execution_count": 1,
     "metadata": {},
     "output_type": "execute_result"
    }
   ],
   "source": [
    "import csv\n",
    "import pandas as pd\n",
    "\n",
    "nba_data = pd.read_csv(r'C:\\Users\\jason\\Downloads\\nbastats2018-2019 - nbastats2018-2019.csv', sep = ',')\n",
    "\n",
    "nba_data.mean()['Age']"
   ]
  },
  {
   "cell_type": "markdown",
   "metadata": {},
   "source": [
    "# What player scored the most points?"
   ]
  },
  {
   "cell_type": "code",
   "execution_count": 12,
   "metadata": {},
   "outputs": [
    {
     "name": "stdout",
     "output_type": "stream",
     "text": [
      "             Name  Height  Weight             Team  Age    Salary  Points  \\\n",
      "202  James Harden      77     220  Houston Rockets   29  30431854    36.1   \n",
      "\n",
      "     Blocks  Steals  Assists  ...    MP   G   PER   OWS  DWS    WS   WS48  \\\n",
      "202     0.7     2.0      7.5  ...  36.8  78  30.6  11.4  3.8  15.2  0.254   \n",
      "\n",
      "      USG   BPM  VORP  \n",
      "202  40.5  11.7   9.9  \n",
      "\n",
      "[1 rows x 27 columns]\n"
     ]
    }
   ],
   "source": [
    "import csv\n",
    "import pandas as pd\n",
    "\n",
    "nba_data = pd.read_csv(r'C:\\Users\\jason\\Downloads\\nbastats2018-2019 - nbastats2018-2019.csv', sep = ',')\n",
    "\n",
    "df = pd.DataFrame(nba_data)\n",
    "\n",
    "print(df[df.Points == df.Points.max()])"
   ]
  },
  {
   "cell_type": "markdown",
   "metadata": {},
   "source": [
    "# What player had the most blocks during the season? Was it a post player (F/C)?"
   ]
  },
  {
   "cell_type": "code",
   "execution_count": 13,
   "metadata": {},
   "outputs": [
    {
     "name": "stdout",
     "output_type": "stream",
     "text": [
      "             Name  Height  Weight            Team  Age   Salary  Points  \\\n",
      "476  Myles Turner      83     250  Indiana Pacers   22  3410284    13.3   \n",
      "\n",
      "     Blocks  Steals  Assists  ...    MP   G   PER  OWS  DWS   WS   WS48   USG  \\\n",
      "476     2.7     0.8      1.6  ...  28.6  74  18.0  1.9  4.4  6.3  0.144  20.0   \n",
      "\n",
      "     BPM  VORP  \n",
      "476  3.3   2.8  \n",
      "\n",
      "[1 rows x 27 columns]\n"
     ]
    }
   ],
   "source": [
    "import csv\n",
    "import pandas as pd\n",
    "\n",
    "nba_data = pd.read_csv(r'C:\\Users\\jason\\Downloads\\nbastats2018-2019 - nbastats2018-2019.csv', sep = ',')\n",
    "\n",
    "df = pd.DataFrame(nba_data)\n",
    "\n",
    "print(df[df.Blocks == df.Blocks.max()])\n",
    "\n",
    "#F/C info not provided."
   ]
  },
  {
   "cell_type": "markdown",
   "metadata": {},
   "source": [
    "# Based on the regular season, who had the best chance to win a title given their win percentage?"
   ]
  },
  {
   "cell_type": "code",
   "execution_count": 18,
   "metadata": {},
   "outputs": [
    {
     "name": "stdout",
     "output_type": "stream",
     "text": [
      "             Name  Height  Weight             Team  Age    Salary  Points  \\\n",
      "202  James Harden      77     220  Houston Rockets   29  30431854    36.1   \n",
      "\n",
      "     Blocks  Steals  Assists  ...    MP   G   PER   OWS  DWS    WS   WS48  \\\n",
      "202     0.7     2.0      7.5  ...  36.8  78  30.6  11.4  3.8  15.2  0.254   \n",
      "\n",
      "      USG   BPM  VORP  \n",
      "202  40.5  11.7   9.9  \n",
      "\n",
      "[1 rows x 27 columns]\n"
     ]
    }
   ],
   "source": [
    "import csv\n",
    "import pandas as pd\n",
    "\n",
    "nba_data = pd.read_csv(r'C:\\Users\\jason\\Downloads\\nbastats2018-2019 - nbastats2018-2019.csv', sep = ',')\n",
    "\n",
    "df = pd.DataFrame(nba_data)\n",
    "\n",
    "print(df[df.WS == df.WS.max()])"
   ]
  },
  {
   "cell_type": "markdown",
   "metadata": {},
   "source": [
    "# What player had the best 3-pt percentage? "
   ]
  },
  {
   "cell_type": "code",
   "execution_count": 20,
   "metadata": {},
   "outputs": [
    {
     "name": "stdout",
     "output_type": "stream",
     "text": [
      "              Name  Height  Weight                Team  Age  Salary  Points  \\\n",
      "147   Trevon Duval      74     189                 NaN   20       -     1.7   \n",
      "312  Scott Machado      73     205  Los Angeles Lakers   28   47371     2.5   \n",
      "352  Eric Moreland      82     238        Phoenix Suns   27  239035     1.4   \n",
      "439  Jordan Sibert      76     187       Atlanta Hawks   26   47371     3.0   \n",
      "\n",
      "     Blocks  Steals  Assists  ...   MP  G   PER  OWS  DWS   WS   WS48   USG  \\\n",
      "147     0.0     0.0      0.7  ...  2.0  3  38.3  0.1  0.0  0.1  0.537  20.9   \n",
      "312     0.0     0.3      0.8  ...  4.8  4  22.2  0.1  0.0  0.1  0.281  14.0   \n",
      "352     0.2     0.2      0.8  ...  8.6  5   6.7 -0.1  0.1  0.0  0.032  12.0   \n",
      "439     0.0     0.0      0.0  ...  4.0  1  29.7  0.0  0.0  0.0  0.183  10.2   \n",
      "\n",
      "     BPM  VORP  \n",
      "147  9.7   0.0  \n",
      "312 -4.4   0.0  \n",
      "352 -4.8   0.0  \n",
      "439  6.3   0.0  \n",
      "\n",
      "[4 rows x 27 columns]\n"
     ]
    }
   ],
   "source": [
    "import csv\n",
    "import pandas as pd\n",
    "\n",
    "nba_data = pd.read_csv(r'C:\\Users\\jason\\Downloads\\nbastats2018-2019 - nbastats2018-2019.csv', sep = ',')\n",
    "\n",
    "df = pd.DataFrame(nba_data)\n",
    "\n",
    "print(df[df['FG3%'] == df['FG3%'].max()])"
   ]
  },
  {
   "cell_type": "markdown",
   "metadata": {},
   "source": [
    "# Who played the most minutes during the season"
   ]
  },
  {
   "cell_type": "code",
   "execution_count": 21,
   "metadata": {},
   "outputs": [
    {
     "name": "stdout",
     "output_type": "stream",
     "text": [
      "             Name  Height  Weight                   Team  Age    Salary  \\\n",
      "37   Bradley Beal      77     207     Washington Wizards   25  25434263   \n",
      "179   Paul George      81     220  Oklahoma City Thunder   28  30560700   \n",
      "\n",
      "     Points  Blocks  Steals  Assists  ...    MP   G   PER  OWS  DWS    WS  \\\n",
      "37     25.6     0.7     1.5      5.5  ...  36.9  82  20.8  5.9  1.7   7.6   \n",
      "179    28.0     0.4     2.2      4.1  ...  36.9  77  23.3  7.0  4.9  11.9   \n",
      "\n",
      "      WS48   USG  BPM  VORP  \n",
      "37   0.120  28.4  2.8   3.7  \n",
      "179  0.201  29.5  5.5   5.3  \n",
      "\n",
      "[2 rows x 27 columns]\n"
     ]
    }
   ],
   "source": [
    "import csv\n",
    "import pandas as pd\n",
    "\n",
    "nba_data = pd.read_csv(r'C:\\Users\\jason\\Downloads\\nbastats2018-2019 - nbastats2018-2019.csv', sep = ',')\n",
    "\n",
    "df = pd.DataFrame(nba_data)\n",
    "\n",
    "print(df[df.MP == df.MP.max()])"
   ]
  },
  {
   "cell_type": "markdown",
   "metadata": {},
   "source": [
    "# What player given their player effiecency rating was the clutchest during the season?"
   ]
  },
  {
   "cell_type": "code",
   "execution_count": 22,
   "metadata": {},
   "outputs": [
    {
     "name": "stdout",
     "output_type": "stream",
     "text": [
      "        Name  Height  Weight             Team  Age  Salary  Points  Blocks  \\\n",
      "405  Zhou Qi      85     210  Houston Rockets   23  506134     2.0     0.0   \n",
      "\n",
      "     Steals  Assists  ...   MP  G   PER  OWS  DWS   WS   WS48   USG  BPM  VORP  \n",
      "405     0.0      0.0  ...  1.0  1  80.4  0.0  0.0  0.0  1.261  43.4  9.5   0.0  \n",
      "\n",
      "[1 rows x 27 columns]\n"
     ]
    }
   ],
   "source": [
    "import csv\n",
    "import pandas as pd\n",
    "\n",
    "nba_data = pd.read_csv(r'C:\\Users\\jason\\Downloads\\nbastats2018-2019 - nbastats2018-2019.csv', sep = ',')\n",
    "\n",
    "df = pd.DataFrame(nba_data)\n",
    "\n",
    "print(df[df.PER == df.PER.max()])"
   ]
  },
  {
   "cell_type": "markdown",
   "metadata": {},
   "source": [
    "# What team had the youngest roster?"
   ]
  },
  {
   "cell_type": "code",
   "execution_count": 44,
   "metadata": {},
   "outputs": [
    {
     "name": "stdout",
     "output_type": "stream",
     "text": [
      "                              Age\n",
      "Team                             \n",
      "Chicago Bulls           24.312500\n",
      "Sacramento Kings        24.400000\n",
      "Orlando Magic           24.533333\n",
      "New York Knicks         24.625000\n",
      "Phoenix Suns            24.761905\n",
      "Portland Trail Blazers  24.857143\n",
      "Indiana Pacers          25.058824\n",
      "Denver Nuggets          25.266667\n",
      "Brooklyn Nets           25.555556\n",
      "Boston Celtics          25.600000\n",
      "Memphis Grizzlies       25.647059\n",
      "Oklahoma City Thunder   25.750000\n",
      "New Orleans Pelicans    25.777778\n",
      "Cleveland Cavaliers     26.000000\n",
      "Charlotte Hornets       26.000000\n",
      "Detroit Pistons         26.266667\n",
      "Philadelphia 76ers      26.352941\n",
      "Atlanta Hawks           26.476190\n",
      "Los Angeles Lakers      26.625000\n",
      "Minnesota Timberwolves  26.625000\n",
      "Washington Wizards      26.764706\n",
      "Milwaukee Bucks         26.928571\n",
      "Los Angeles Clippers    27.105263\n",
      "Utah Jazz               27.133333\n",
      "Toronto Raptors         27.166667\n",
      "Golden State Warriors   27.866667\n",
      "Dallas Mavericks        27.866667\n",
      "Houston Rockets         27.923077\n",
      "San Antonio Spurs       28.133333\n",
      "Miami Heat              28.181818\n"
     ]
    }
   ],
   "source": [
    "import csv\n",
    "import pandas as pd\n",
    "\n",
    "nba_data = pd.read_csv(r'C:\\Users\\jason\\Downloads\\nbastats2018-2019 - nbastats2018-2019.csv', sep = ',')\n",
    "\n",
    "df = pd.DataFrame(nba_data)\n",
    "\n",
    "result = df.groupby('Team').agg({'Age':'mean'}).sort_values(['Age'],ascending=True)\n",
    "\n",
    "print(result)"
   ]
  },
  {
   "cell_type": "markdown",
   "metadata": {},
   "source": [
    "# Who is the highest paid player during the seasion?"
   ]
  },
  {
   "cell_type": "code",
   "execution_count": 45,
   "metadata": {},
   "outputs": [
    {
     "name": "stdout",
     "output_type": "stream",
     "text": [
      "             Name  Height  Weight                Team  Age Salary  Points  \\\n",
      "255  John Jenkins      76     215  Washington Wizards   27  99290     4.7   \n",
      "\n",
      "     Blocks  Steals  Assists  ...    MP   G  PER  OWS  DWS   WS   WS48   USG  \\\n",
      "255     0.1     0.0      0.8  ...  12.8  26  9.7  0.2  0.0  0.2  0.031  15.7   \n",
      "\n",
      "     BPM  VORP  \n",
      "255 -5.2  -0.3  \n",
      "\n",
      "[1 rows x 27 columns]\n"
     ]
    }
   ],
   "source": [
    "import csv\n",
    "import pandas as pd\n",
    "\n",
    "nba_data = pd.read_csv(r'C:\\Users\\jason\\Downloads\\nbastats2018-2019 - nbastats2018-2019.csv', sep = ',')\n",
    "\n",
    "df = pd.DataFrame(nba_data)\n",
    "\n",
    "print(df[df.Salary == df.Salary.max()])"
   ]
  },
  {
   "cell_type": "markdown",
   "metadata": {},
   "source": [
    "# At the end of a game, who WOULDN'T you want on the Free Throw Line?"
   ]
  },
  {
   "cell_type": "code",
   "execution_count": 46,
   "metadata": {},
   "outputs": [
    {
     "name": "stdout",
     "output_type": "stream",
     "text": [
      "                   Name  Height  Weight                   Team  Age   Salary  \\\n",
      "154         Jacob Evans      78     210  Golden State Warriors   21  1644240   \n",
      "221   Haywood Highsmith      79     220                    NaN   22        -   \n",
      "268      Terrence Jones      81     252        Houston Rockets   27   198580   \n",
      "325      Tahjere McCall      77     195          Brooklyn Nets   24    47371   \n",
      "356  Donatas Motiejunas      84     222      San Antonio Spurs   28    59820   \n",
      "360         Dzanan Musa      81     208          Brooklyn Nets   19  1632240   \n",
      "502       C.J. Williams      77     226                    NaN   28        -   \n",
      "\n",
      "     Points  Blocks  Steals  Assists  ...   MP   G   PER  OWS  DWS   WS  \\\n",
      "154     1.3     0.1     0.2      0.8  ...  6.8  30   3.5 -0.3  0.2 -0.1   \n",
      "221     1.8     0.0     0.2      0.4  ...  8.0   5   4.5  0.0  0.0  0.0   \n",
      "268     1.0     0.0     0.0      0.0  ...  2.5   2 -15.8 -0.1  0.0 -0.1   \n",
      "325     4.0     0.0     0.0      0.0  ...  8.0   1   9.6  0.0  0.0  0.0   \n",
      "356     2.0     0.3     0.0      0.3  ...  4.3   3  -0.5 -0.1  0.0 -0.1   \n",
      "360     2.1     0.0     0.2      0.2  ...  4.3   9   5.8 -0.2  0.0 -0.1   \n",
      "502     2.6     0.0     0.4      0.8  ...  8.5  15   8.8  0.1  0.1  0.1   \n",
      "\n",
      "      WS48   USG   BPM  VORP  \n",
      "154 -0.030  13.5  -6.9  -0.3  \n",
      "221 -0.023  12.4  -7.3  -0.1  \n",
      "268 -0.661  47.2 -52.3  -0.1  \n",
      "325  0.055  18.1  -9.8   0.0  \n",
      "356 -0.246  33.5 -11.5   0.0  \n",
      "360 -0.152  29.0 -10.4  -0.1  \n",
      "502  0.042  13.3  -4.0  -0.1  \n",
      "\n",
      "[7 rows x 27 columns]\n"
     ]
    }
   ],
   "source": [
    "import csv\n",
    "import pandas as pd\n",
    "\n",
    "nba_data = pd.read_csv(r'C:\\Users\\jason\\Downloads\\nbastats2018-2019 - nbastats2018-2019.csv', sep = ',')\n",
    "\n",
    "df = pd.DataFrame(nba_data)\n",
    "\n",
    "print(df[df['FT%'] == df['FT%'].min()])"
   ]
  }
 ],
 "metadata": {
  "kernelspec": {
   "display_name": "Python 3",
   "language": "python",
   "name": "python3"
  },
  "language_info": {
   "codemirror_mode": {
    "name": "ipython",
    "version": 3
   },
   "file_extension": ".py",
   "mimetype": "text/x-python",
   "name": "python",
   "nbconvert_exporter": "python",
   "pygments_lexer": "ipython3",
   "version": "3.8.2"
  },
  "vscode": {
   "interpreter": {
    "hash": "507317297c2071b102c545a8005e942338072417761d163cf09c6958a8af51fa"
   }
  }
 },
 "nbformat": 4,
 "nbformat_minor": 2
}
