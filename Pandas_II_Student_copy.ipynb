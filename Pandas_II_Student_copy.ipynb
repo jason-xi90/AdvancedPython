{
 "cells": [
  {
   "cell_type": "markdown",
   "metadata": {},
   "source": [
    "# Data Science Pandas - Joins, Time Series & Rolling Statistics, SQL"
   ]
  },
  {
   "cell_type": "markdown",
   "metadata": {},
   "source": [
    "## Tasks Today:\n",
    "\n",
    "1) <b>Pandas</b> <br>\n",
    " &nbsp;&nbsp;&nbsp;&nbsp; a) Joins <br>\n",
    " &nbsp;&nbsp;&nbsp;&nbsp;&nbsp;&nbsp;&nbsp;&nbsp; - merge() <br>\n",
    " &nbsp;&nbsp;&nbsp;&nbsp;&nbsp;&nbsp;&nbsp;&nbsp; - Breaking Down the Inner Join <br>\n",
    " &nbsp;&nbsp;&nbsp;&nbsp; b) Outer Joins <br>\n",
    " &nbsp;&nbsp;&nbsp;&nbsp;&nbsp;&nbsp;&nbsp;&nbsp; - Use Case Example <br>\n",
    " &nbsp;&nbsp;&nbsp;&nbsp; c) Rolling Statistics and Time Series w/Pandas <br>\n",
    " &nbsp;&nbsp;&nbsp;&nbsp;&nbsp;&nbsp;&nbsp;&nbsp; - read_csv() <br>\n",
    " &nbsp;&nbsp;&nbsp;&nbsp;&nbsp;&nbsp;&nbsp;&nbsp; - shift() <br>\n",
    " 2) <b> SQL </b> <br>\n",
    "      - Adding DataFrame to Database Table\n",
    "      - Reading SQL Query Result into DataFrame"
   ]
  },
  {
   "cell_type": "code",
   "execution_count": 1,
   "metadata": {},
   "outputs": [],
   "source": [
    "import pandas as pd\n",
    "import numpy as np"
   ]
  },
  {
   "cell_type": "markdown",
   "metadata": {},
   "source": [
    "### Joins <br>\n",
    "<p>Very often you will have to combine data from several different sources to obtain the actual dataset you need for your exploration or modeling. Pandas draws heavily on SQL in its API design for joins, and if you are familiar with SQL joins, then Pandas will come naturally. Imagine you have two tables, one with customer name and gender, and the other with their purchases:</p>"
   ]
  },
  {
   "cell_type": "code",
   "execution_count": 1,
   "metadata": {},
   "outputs": [],
   "source": [
    "# Generate some fake data\n",
    "\n",
    "city_data = {\n",
    "    1: 'Chicago',\n",
    "    2: 'Boston'\n",
    "}\n",
    "\n",
    "ages = np.random.randint(18,65,100)\n",
    "city = [city_data[num] for num in np.random.randint(1,6,100)]\n",
    "customer_id =np.arange(1000,1100)"
   ]
  },
  {
   "cell_type": "markdown",
   "metadata": {},
   "source": [
    "<p>Let's assume we have a dataset containing the customer ID's cities, and ages for a set of customers. Suppose further, that we have a second table, containing some customer ID's, and a feedback survey rating from those customers. Suppose finally, that you as an analyst are asked the following question: What city tends to give the best feedback for our product? We'll need a join operation to get the answer.</p>"
   ]
  },
  {
   "cell_type": "code",
   "execution_count": null,
   "metadata": {},
   "outputs": [],
   "source": [
    "customer_demographics = pd.DataFrame.from_dict({\n",
    "    'age': ages,\n",
    "    'city': city,\n",
    "    'cusomter_id': customer_id\n",
    "})\n",
    "\n",
    "customer_demographics"
   ]
  },
  {
   "cell_type": "code",
   "execution_count": 2,
   "metadata": {},
   "outputs": [],
   "source": [
    "# Generate some other fake data\n",
    "customer_id = np.random.randint(1000,1200,100)\n",
    "customer_rating = np.random.randint(1,11,100)\n",
    "\n",
    "surveys = pd.DataFrame.from_dict({\n",
    "    'customer_id': customer_id,\n",
    "    'customer_rating': customer_rating\n",
    "})\n",
    "\n",
    "surveys.head(20)"
   ]
  },
  {
   "cell_type": "markdown",
   "metadata": {},
   "source": [
    "##### merge()\n",
    "\n",
    "<p>We can zip the two dataframes up with an inner join, using the Pandas API as follows:</p>"
   ]
  },
  {
   "cell_type": "code",
   "execution_count": null,
   "metadata": {},
   "outputs": [],
   "source": [
    "demo_ratings = customer_demographics.merge(surveys, on = 'customer_id', how='inner')\n",
    "demo_ratings"
   ]
  },
  {
   "cell_type": "code",
   "execution_count": null,
   "metadata": {},
   "outputs": [],
   "source": [
    "demo_ratings_dropped = demo_ratings.drop_duplicates(subset= 'customer_id').reset_index(drop=True)\n",
    "demo_ratings_dropped"
   ]
  },
  {
   "cell_type": "markdown",
   "metadata": {},
   "source": [
    "**.join() method**"
   ]
  },
  {
   "cell_type": "code",
   "execution_count": 3,
   "metadata": {},
   "outputs": [],
   "source": [
    "# join() is used to combine two DataFrames on the index but not on\n",
    "# columns whereas merge() is primarily used to specify the columns\n",
    "# you wanted to join on, this also supports joining on indexes and combination of index and columns\n",
    "\n",
    "demo_surveys_join = customer_demographics.join(other = surveys.set_index('customer_id'), on = 'customer_id', how = 'inner')\n",
    "demo_surveys_join\n",
    "\n",
    "demo_surveys_join_nodups = demo_surveys_join.drop_duplicates(subset = 'customer_id').reset_index(drop=True)\n",
    "demo_surveys_join_nodups"
   ]
  },
  {
   "cell_type": "markdown",
   "metadata": {},
   "source": [
    "<p>Now it's a simple groupby operation to reveal the answer:</p>"
   ]
  },
  {
   "cell_type": "code",
   "execution_count": null,
   "metadata": {},
   "outputs": [],
   "source": [
    "city_ages_ratings = demo_ratings_dropped.groupby('city', as_index = False).mean().round(decimals=2)[['city','ages','customer_rating']]\n",
    "city_ages_ratings"
   ]
  },
  {
   "cell_type": "markdown",
   "metadata": {},
   "source": [
    "But what if we didn't drop the customer_id duplicates...would we get the same city result??"
   ]
  },
  {
   "cell_type": "code",
   "execution_count": null,
   "metadata": {},
   "outputs": [],
   "source": [
    "city_age_ratings_dups = demo_ratings.groupby('city', as_index = False).mean().round(decimals=2)[['city'.'ages','customer_rating']]\n",
    "city_age_ratings_dups"
   ]
  },
  {
   "cell_type": "markdown",
   "metadata": {},
   "source": [
    "What would be the total mean for the US customers?\n"
   ]
  },
  {
   "cell_type": "code",
   "execution_count": null,
   "metadata": {},
   "outputs": [],
   "source": [
    "city_ratings_mean = demo_ratings_dropped.groupby('city').mean()\n",
    "city_ratings_mean.loc['Boston']"
   ]
  },
  {
   "cell_type": "markdown",
   "metadata": {},
   "source": [
    "##### Breaking Down the Inner Join <br>\n",
    "<p>Let's take a closer look at the actual mechanics here however. There is some subtlety and nuance that is best understood by thinking of an inner join as two steps: a cartesian product, and then a filter. Observe the result of the following inner join:</p>"
   ]
  },
  {
   "cell_type": "code",
   "execution_count": null,
   "metadata": {},
   "outputs": [],
   "source": [
    "d = {\n",
    "    'A': [1,2],\n",
    "    'B': ['a','b']\n",
    "}\n",
    "\n",
    "df1 = pd.DataFrame.from_dict(d)\n",
    "df1"
   ]
  },
  {
   "cell_type": "code",
   "execution_count": null,
   "metadata": {},
   "outputs": [],
   "source": [
    "d2 = {\n",
    "    'A': [1,2],\n",
    "    'B': ['a','b']\n",
    "}\n",
    "\n",
    "df2 = pd.DataFrame.from_dict(d2)\n",
    "df2\n"
   ]
  },
  {
   "cell_type": "code",
   "execution_count": null,
   "metadata": {},
   "outputs": [],
   "source": [
    "df1.merge(df2, on='A', how='inner')"
   ]
  },
  {
   "cell_type": "markdown",
   "metadata": {},
   "source": [
    "<p>Somehow, we ended up with more rows in the result than either of the original tables! This is because we joined on a $\\textit{non-unique index}$. The join starts by computing all the possible combinations of rows, and then filters them based on the condition. Because of the duplicates, multiple combinations of rows make it through!</p>"
   ]
  },
  {
   "cell_type": "markdown",
   "metadata": {},
   "source": [
    "### Outer Joins <br>\n",
    "<p>An $\\textit{outer join}$ produces all of the rows from the left table, and joins whatever rows it can to the right table, filling anywhere it cant with NaN's or None values. Below is a brief example, and then we will discuss a possible use case for this type of join.</p>"
   ]
  },
  {
   "cell_type": "code",
   "execution_count": null,
   "metadata": {},
   "outputs": [],
   "source": [
    "df1.merge(df2, on = 'A', how = 'outer')"
   ]
  },
  {
   "cell_type": "code",
   "execution_count": null,
   "metadata": {},
   "outputs": [],
   "source": []
  },
  {
   "cell_type": "code",
   "execution_count": null,
   "metadata": {},
   "outputs": [],
   "source": []
  },
  {
   "cell_type": "code",
   "execution_count": null,
   "metadata": {},
   "outputs": [],
   "source": []
  },
  {
   "cell_type": "code",
   "execution_count": 4,
   "metadata": {},
   "outputs": [],
   "source": [
    "# LEFT JOIN MERGE\n",
    "df1.merge(df2, on = 'A', how = 'left')"
   ]
  },
  {
   "cell_type": "code",
   "execution_count": 5,
   "metadata": {},
   "outputs": [],
   "source": [
    "# RIGHT JOIN MERGE\n",
    "df1.merge(df2, on = 'A', how = 'right')"
   ]
  },
  {
   "cell_type": "markdown",
   "metadata": {},
   "source": [
    "##### Use Case Example\n",
    "\n",
    "<p>As an example use case, let's imagine we have again the demographics and survey response tables from above:</p>"
   ]
  },
  {
   "cell_type": "code",
   "execution_count": null,
   "metadata": {},
   "outputs": [],
   "source": [
    "customer_demographics.head()"
   ]
  },
  {
   "cell_type": "code",
   "execution_count": null,
   "metadata": {},
   "outputs": [],
   "source": [
    "surveys.head()"
   ]
  },
  {
   "cell_type": "markdown",
   "metadata": {},
   "source": [
    "<p>Now, you are asked as an analyst to compare the demographics of survey responders to the demographics of all your customers combined.</p>"
   ]
  },
  {
   "cell_type": "code",
   "execution_count": null,
   "metadata": {},
   "outputs": [],
   "source": [
    "demo_ratings_outer = customer_demographics.merge(surveys, on='customer_id', how='outer')\n",
    "\n",
    "demo_ratings_outer['customer_rating'] = demo_ratings_outer['customer_rating'].fillna('N/A')\n",
    "\n",
    "demo_ratings_outer"
   ]
  },
  {
   "cell_type": "code",
   "execution_count": 7,
   "metadata": {},
   "outputs": [],
   "source": [
    "# Count all survey responders against the total number of customers we have \n",
    "# (Specifically the customers that haven't taken the survey yet)\n",
    "demo_size = demo_ratings_outer.groupby(['city', 'customer_rating']).size()\n",
    "demo_size\n",
    "\n",
    "demo_count = demo_ratings_outer.groupby(['city', 'customer_rating']).count()\n",
    "demo_count\n",
    "# Producing similar result with .count()\n"
   ]
  },
  {
   "cell_type": "code",
   "execution_count": 8,
   "metadata": {},
   "outputs": [],
   "source": [
    "# average age of people that answered the survey\n",
    "survey_answered = demo_ratings_outer[demo_ratings_outer['customer_rating'] != 'N/A']\n",
    "\n",
    "round(survey_answered['ages'].mean())\n",
    "\n",
    "# demo_ratings_outer['customer_rating'] != 'N/A'\n"
   ]
  },
  {
   "cell_type": "code",
   "execution_count": 9,
   "metadata": {},
   "outputs": [],
   "source": [
    "# find the average age of people that did not answer the survey\n"
   ]
  },
  {
   "cell_type": "markdown",
   "metadata": {},
   "source": [
    "### Rolling Statistics and Time Series with Pandas"
   ]
  },
  {
   "cell_type": "markdown",
   "metadata": {},
   "source": [
    "##### read_csv()"
   ]
  },
  {
   "cell_type": "code",
   "execution_count": null,
   "metadata": {},
   "outputs": [],
   "source": [
    "weather = pd.read_csv('files/chiweather.csv', sep = ';')"
   ]
  },
  {
   "cell_type": "code",
   "execution_count": null,
   "metadata": {},
   "outputs": [],
   "source": [
    "weather.head(10)"
   ]
  },
  {
   "cell_type": "code",
   "execution_count": null,
   "metadata": {},
   "outputs": [],
   "source": [
    "weather_update = weather.groupby(['Year','Month','Day']).mean().reset_index()"
   ]
  },
  {
   "cell_type": "code",
   "execution_count": null,
   "metadata": {},
   "outputs": [],
   "source": [
    "weather_update.head(10)"
   ]
  },
  {
   "cell_type": "markdown",
   "metadata": {},
   "source": [
    "##### shift() <br>\n",
    "<p>Shift index by desired number of periods with an optional time freq</p>"
   ]
  },
  {
   "cell_type": "code",
   "execution_count": 10,
   "metadata": {},
   "outputs": [],
   "source": [
    "# Print all keys for easier use\n",
    "print(weather_update.keys())\n",
    "\n",
    "weather_update['last_temp'] = weather_update['Temperature [2 m above gnd]'].shift(1)"
   ]
  },
  {
   "cell_type": "code",
   "execution_count": null,
   "metadata": {},
   "outputs": [],
   "source": [
    "weather_update"
   ]
  },
  {
   "cell_type": "code",
   "execution_count": null,
   "metadata": {},
   "outputs": [],
   "source": [
    "weather_update['difference']=abs(weather_update['last_temp']-weather_update['Temperature [2 m above gnd]'])\n",
    "weather_update"
   ]
  },
  {
   "cell_type": "code",
   "execution_count": 11,
   "metadata": {},
   "outputs": [],
   "source": [
    "# create a new column that takes the difference in temperature from the previous day as an absolute value\n"
   ]
  },
  {
   "cell_type": "code",
   "execution_count": 12,
   "metadata": {},
   "outputs": [],
   "source": [
    "# Pip install for both psycopg2 and SQLAlchemy\n",
    "import sys\n",
    "!{sys.executable} -m pip install psycopg2-binary SQLAlchemy # the -binary is for mac users"
   ]
  },
  {
   "cell_type": "code",
   "execution_count": 14,
   "metadata": {},
   "outputs": [],
   "source": [
    "# databaselanguage(postgresql)://user:password@url:port/database_name\n",
    "\n"
   ]
  },
  {
   "cell_type": "code",
   "execution_count": null,
   "metadata": {},
   "outputs": [],
   "source": []
  },
  {
   "cell_type": "code",
   "execution_count": 13,
   "metadata": {},
   "outputs": [],
   "source": [
    "# Writing a DataFrame to PostGreSQL database \n",
    "# from sqlalchemy.types import Integer, Text,String,DateTime,Float\n"
   ]
  },
  {
   "cell_type": "code",
   "execution_count": null,
   "metadata": {},
   "outputs": [],
   "source": []
  }
 ],
 "metadata": {
  "kernelspec": {
   "display_name": "Python 3 (ipykernel)",
   "language": "python",
   "name": "python3"
  },
  "language_info": {
   "codemirror_mode": {
    "name": "ipython",
    "version": 3
   },
   "file_extension": ".py",
   "mimetype": "text/x-python",
   "name": "python",
   "nbconvert_exporter": "python",
   "pygments_lexer": "ipython3",
   "version": "3.9.7"
  }
 },
 "nbformat": 4,
 "nbformat_minor": 2
}
