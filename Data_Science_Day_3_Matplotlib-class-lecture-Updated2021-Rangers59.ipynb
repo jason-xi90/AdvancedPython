{
 "cells": [
  {
   "cell_type": "markdown",
   "metadata": {},
   "source": [
    "# Data Science Visualization - Matplotlib"
   ]
  },
  {
   "cell_type": "markdown",
   "metadata": {},
   "source": [
    "## Tasks Today:\n",
    "\n",
    "1) <b>Matplotlib</b> <br>\n",
    " &nbsp;&nbsp;&nbsp;&nbsp; a) Data Visulation <br>\n",
    " &nbsp;&nbsp;&nbsp;&nbsp;&nbsp;&nbsp;&nbsp;&nbsp; - Importing <br>\n",
    " &nbsp;&nbsp;&nbsp;&nbsp; b) Different Types of Charts <br>\n",
    " &nbsp;&nbsp;&nbsp;&nbsp; c) Basics <br>\n",
    " &nbsp;&nbsp;&nbsp;&nbsp; d) Customization <br>\n",
    " &nbsp;&nbsp;&nbsp;&nbsp;&nbsp;&nbsp;&nbsp;&nbsp; - Axis Labels & Line Marks <br>\n",
    " &nbsp;&nbsp;&nbsp;&nbsp;&nbsp;&nbsp;&nbsp;&nbsp; - Legend & Line Labels <br>\n",
    " &nbsp;&nbsp;&nbsp;&nbsp; e) Subplots <br>\n",
    " &nbsp;&nbsp;&nbsp;&nbsp; f) <b>In-Class Exercise #1</b> <br>\n",
    " &nbsp;&nbsp;&nbsp;&nbsp; g) Presentation Worthiness <br>\n",
    " &nbsp;&nbsp;&nbsp;&nbsp; h) <b>In-Class Exercise #2</b> <br>\n",
    " &nbsp;&nbsp;&nbsp;&nbsp; i) Box Plot <br>\n",
    " &nbsp;&nbsp;&nbsp;&nbsp; j) Scatter Plot <br>\n",
    " &nbsp;&nbsp;&nbsp;&nbsp; k) Histograms <br>"
   ]
  },
  {
   "cell_type": "markdown",
   "metadata": {},
   "source": [
    "### Data Visualization <br>\n",
    "<p>Data visualization is one of the most powerful tools an analyst has for two main reasons. Firstly, it is unrivalled in it's ability to guide the analysts hand in determining 'what to look at next'. Often a visual is revealing of patterns in the data that are not easily discernable by just looking at dataframes. Secondly, they are an analysts greatest communication tool. Very often professional analysts need to present their results to groups of people responsible for taking action based on what the data says. Visuals can tell your story much better then raw numbers, so let's talk a little bit about how to make effective visuals that make a point.</p>"
   ]
  },
  {
   "cell_type": "markdown",
   "metadata": {},
   "source": [
    "##### Importing"
   ]
  },
  {
   "cell_type": "code",
   "execution_count": null,
   "metadata": {},
   "outputs": [],
   "source": [
    "!pip install matplotlib"
   ]
  },
  {
   "cell_type": "code",
   "execution_count": null,
   "metadata": {},
   "outputs": [],
   "source": [
    "import pandas as pd\n",
    "import numpy as np\n",
    "import matplotlib.pyplot as plt # standard"
   ]
  },
  {
   "cell_type": "markdown",
   "metadata": {},
   "source": [
    "### Different Types of Charts <br>\n",
    "<ul>\n",
    "    <li><b>Line Chart:</b> Exploring data over time</li>\n",
    "    <li><b>Bar Chart:</b> Comparing categories of data and tracks changes over time</li>\n",
    "    <li><b>Pie Chart:</b> Explore parts of a whole, i.e. fractions</li>\n",
    "    <li><b>Scatter Plot:</b> Similar to line charts, track correlations between two categories</li>\n",
    "    <li><b>Histogram:</b> Unrelated from bar charts, show distribution of variables</li>\n",
    "    <li><b>Candlestick Chart:</b> Used a lot in financial sector, i.e. can compare a stock over a period of time</li>\n",
    "    <li><b>Box Chart:</b> Looks identical to candlestick charts, compares minimum, 1st, medium, 3rd quartiles, and max values</li>\n",
    "</ul>\n",
    "\n",
    "<p>Depending on what you need to accomplish in conceptualizing your data, you will go with a specific type of chart to portray your data.</p>"
   ]
  },
  {
   "cell_type": "markdown",
   "metadata": {},
   "source": [
    "### Basics <br>\n",
    "<p>Plots can be as detailed as you'd like them to be, but the simplest plot to start with can be done in just a few lines:</p>"
   ]
  },
  {
   "cell_type": "code",
   "execution_count": null,
   "metadata": {
    "scrolled": true
   },
   "outputs": [],
   "source": [
    "plt.plot([12,12])\n",
    "plt.show()"
   ]
  },
  {
   "cell_type": "markdown",
   "metadata": {},
   "source": [
    "### Customization <br>\n",
    "<p>There's many customizable options when using Matplotlib, such as; line types, colors, labels, figure size, etc. We'll go over a few of them here:</p>"
   ]
  },
  {
   "cell_type": "markdown",
   "metadata": {},
   "source": [
    "##### Axis Labels & Line Marks"
   ]
  },
  {
   "cell_type": "code",
   "execution_count": null,
   "metadata": {},
   "outputs": [],
   "source": [
    "plt.plot([1,2],[20,22],'yo-')\n",
    "plt.plot([3,4], [30,32], 'rx:')\n",
    "plt.xlabel('Increase Value')\n",
    "plt.ylabel('Increase Time')\n",
    "plt.show()"
   ]
  },
  {
   "cell_type": "markdown",
   "metadata": {},
   "source": [
    "##### Legend & Line Labels"
   ]
  },
  {
   "cell_type": "code",
   "execution_count": null,
   "metadata": {},
   "outputs": [],
   "source": [
    "plt.plot([1,2],[20,22],'ro-', label='First Demographic')\n",
    "plt.plot([1,2],[20,22],'gx-', label='Second Demographic')\n",
    "plt.ylabel('Population (Billions)')\n",
    "plt.xlabel('Year')\n",
    "plt.legend()\n",
    "plt.show()"
   ]
  },
  {
   "cell_type": "markdown",
   "metadata": {},
   "source": [
    "### Subplots <br>\n",
    "<p>Using the subplots method, you're able to create multiple plots within a single cell.</p>"
   ]
  },
  {
   "cell_type": "code",
   "execution_count": null,
   "metadata": {},
   "outputs": [],
   "source": [
    "# first plot\n",
    "plot_1 = plt.subplot(2,1,1)\n",
    "plt.plot([1,2],[10,12],'ro-',label = 'First Demographic')\n",
    "plot_1.set_xlim([0,5])\n",
    "plot_1.set_ylim([9,15])\n",
    "plt.ylabel('Population (Billions)')\n",
    "plt.xlabel('Year')\n",
    "plt.legend()\n",
    "\n",
    "plot_2 = plt.subplot(2,1,1)\n",
    "plt.plot([1,2],[10,12],'gx-',label = 'First Demographic')\n",
    "plot_2.set_xlim([-1,5])\n",
    "plot_2.set_ylim([9,17])\n",
    "plt.ylabel('Population (Billions)')\n",
    "plt.xlabel('Year')\n",
    "plt.legend()\n",
    "plt.show()\n"
   ]
  },
  {
   "cell_type": "markdown",
   "metadata": {},
   "source": [
    "### In-Class Exercise #1 - Create a Graph that Depicts y = f(x)"
   ]
  },
  {
   "cell_type": "code",
   "execution_count": null,
   "metadata": {},
   "outputs": [],
   "source": [
    "import numpy as np\n",
    "\n",
    "# use matplotlib to plot f(x)\n"
   ]
  },
  {
   "cell_type": "markdown",
   "metadata": {},
   "source": [
    "### Presentation Worthiness\n",
    "<p>Before we go into how to use this as a tool for data exploration, let's talk quickly about presentation-worthiness. In the next cell we're going to introduce customization of lines, colors, ticks, titles, fonts, and grids.</p>"
   ]
  },
  {
   "cell_type": "code",
   "execution_count": null,
   "metadata": {},
   "outputs": [],
   "source": [
    "fig, ax = plt.subplots(figsize = (20, 10))\n",
    "\n",
    "x_axis = np.linespace(-10,10,num=20)\n",
    "\n",
    "y_axis = x_axis**2\n",
    "\n",
    "plt.plot(x_axis, \n",
    "         y_axis,\n",
    "        lw = 5, # Line Width\n",
    "        ls = '--', # Line Style\n",
    "        color = 'r', # Line Color\n",
    "        marker = \"*\", #Pointer Marker\n",
    "        markersize = 15, # Marker size\n",
    "        markerfacecolor = 'b', # Marker Color\n",
    "        label = 'Data'\n",
    "        )\n",
    "\n",
    "plt.xlabel(r'$x$ Value', fontname = 'Times New Roman', fontsize = 32)\n",
    "plt.ylabel(r'$y$ Value', fontname = 'Times New Roman', fontsize = 32)\n",
    "\n",
    "plt.xticks(fontsize = 28)\n",
    "plt.yticks(fontsize = 28)\n",
    "\n",
    "plt.title('Quadratic Equation Visual', fontname = \"Times New Roman\", fontsize = 40, y = 1.05)\n",
    "\n",
    "plt.grid(True)\n",
    "\n",
    "plt.legend(loc = 'upper left', fontsize = 40)\n",
    "\n",
    "plt.tight_layout()\n"
   ]
  },
  {
   "cell_type": "markdown",
   "metadata": {},
   "source": [
    "<p>It's sometimes nice to obsess a little bit over how your plots look. It's good practice paying attention to detail and it has huge payoff when you end up presenting your findings to other analysts and business parteners. Here's a more complex example of using the matplotlib api:</p>"
   ]
  },
  {
   "cell_type": "code",
   "execution_count": null,
   "metadata": {},
   "outputs": [],
   "source": [
    "markers = ['o', 'v', '^', '*', 's']\n",
    "styles = ['-', '--', '-.', ':', '-']\n",
    "colors = ['#588C7E', '#F2E394', '#F2AE72', '#D96459', '#8C4646']"
   ]
  },
  {
   "cell_type": "code",
   "execution_count": null,
   "metadata": {},
   "outputs": [],
   "source": [
    "x = np.linspace(0, 10, 50)\n",
    "\n",
    "for i in range(5):\n",
    "    plt.plot(x, x ** i,\n",
    "            lw = 5,\n",
    "            ls = styles[i],\n",
    "            color = colors[i],\n",
    "            marker = markers[i],\n",
    "            markersize = 15,\n",
    "            markerfacecolor = colors[i],\n",
    "            label = r'$x^{%s}$' % i # f'{i}'\n",
    "            )\n",
    "    \n",
    "plt.xlim(0,10, 50)\n",
    "plt.ylim(0,100)\n",
    "\n",
    "plt.xlabel(r'$x$ Value', fontname = 'Times New Roman', fontsize = 32)\n",
    "plt.ylabel(f'y Value', fontname = 'Times New Roman', fontsize = 32)\n",
    "\n",
    "plt.xticks(fontsize = 28)\n",
    "plt.yticks(fontsize = 28)\n",
    "\n",
    "plt.title(r'$y = f(x) = x^2$', fontname = \"Times New Roman\", fontsize = 40, y = 1.05)\n",
    "\n",
    "plt.grid(True)\n",
    "\n",
    "plt.legend(loc = 'upper left', fontsize = 40)\n",
    "\n",
    "plt.tight_layout()\n",
    "\n"
   ]
  },
  {
   "cell_type": "markdown",
   "metadata": {},
   "source": [
    "### In-Class Exercise #2 - Customize the f(x) Plot Created Earlier <br>\n",
    "<p>Customize it however you would like...</p>"
   ]
  },
  {
   "cell_type": "code",
   "execution_count": null,
   "metadata": {},
   "outputs": [],
   "source": [
    "# students to do..."
   ]
  },
  {
   "cell_type": "markdown",
   "metadata": {},
   "source": [
    "### Scatter Plot"
   ]
  },
  {
   "cell_type": "code",
   "execution_count": null,
   "metadata": {},
   "outputs": [],
   "source": [
    "import csv\n",
    "from  itertools import groupby\n",
    "\n",
    "data_file = 'files/iris.csv'\n",
    "\n",
    "plt.figure(figsize=(10.5,7.25))\n",
    "\n",
    "def read_csv(filename):\n",
    "    with open(filename,'r') as f:\n",
    "        data = list(csv.reader(f))\n",
    "    return data\n",
    "\n",
    "flowers = read_csv(data_file)\n",
    "\n",
    "colors = {\n",
    "    'Iris-setosa': '#2B5B84',\n",
    "    'Iris-versicolor': 'g',\n",
    "    'Iris-virginica': 'purple'\n",
    "}\n",
    "\n",
    "for species, group in groupby(flowers, lambda x:x[4]):\n",
    "    flower_cat = list(group)\n",
    "    sepal_length = [float(flower[0]) for flower in flower_cat]\n",
    "    sepal_width = [float(flower[1]) for flower in flower_cat]\n",
    "    plt.scatter(sepal_length, sepal_width, s=10, c=colors[species], label=species)\n",
    "\n",
    "plt.title('Iris Data', fontsize=16)\n",
    "plt.xlabel('Sepal length', fontsize=10)\n",
    "plt.ylabel('Sepal width', fontsize=10)\n",
    "plt.legend(loc='best').get_frame().set_color('chocolate')\n",
    "plt.show()"
   ]
  },
  {
   "cell_type": "markdown",
   "metadata": {},
   "source": [
    "### Box Plot"
   ]
  },
  {
   "cell_type": "code",
   "execution_count": null,
   "metadata": {},
   "outputs": [],
   "source": [
    "from itertools import groupby\n",
    "\n",
    "plt.figure(figsize = (10.5, 7.25))\n",
    "\n",
    "fig = plt.figure()\n",
    "\n",
    "flowers = read_csv(data_file)\n",
    "\n",
    "petal_length = []\n",
    "\n",
    "for species, group in groupby(flowers, lambda x: x[4]):\n",
    "    petal_length.append([float(petal[2]) for petal in group])\n",
    "\n",
    "plt.boxplot(petal_length)\n",
    "plt.axis([0,4,0,10])\n",
    "plt.xticks([1,2,3], ['Setosa', 'Versicolor', 'Virginica'])\n",
    "plt.title('Box plot', fontsize = 16, loc = 'right')\n",
    "plt.xlabel('Flower variety', fontsize = 10)\n",
    "plt.ylabel('Petal Length', fontsize = 10)\n",
    "\n",
    "plt.show()\n",
    "\n",
    "fig.savefig('files/iris.png')"
   ]
  },
  {
   "cell_type": "markdown",
   "metadata": {},
   "source": [
    "### Histograms <br>\n",
    "<p>While line plots are great for visualizing trends in time series data, histograms are the king of visualizing distributions. Often, the distribution of a variable is what you're interested in, and a visualization provides a lot more information than a group of summary statistics.</p>"
   ]
  },
  {
   "cell_type": "code",
   "execution_count": null,
   "metadata": {},
   "outputs": [],
   "source": [
    "fig, ax = plt.subplots(figsize=(16, 9)) #Subplots makes a call in the background to create a plot area\n",
    "\n",
    "# generate random data\n",
    "data = np.random.uniform(0,10,100)\n",
    "\n",
    "plt.hist(data, bins=75, label='Data', color='r', alpha=0.75)\n",
    "plt.xticks(fontsize=30)\n",
    "plt.yticks(fontsize=30)\n",
    "\n",
    "plt.xlabel('Value', fontsize=35, fontname='Times New Roman')\n",
    "plt.ylabel('Frequency', fontname='Times New Roman', fontsize=35)\n",
    "plt.legend(loc='upper left', fontsize=30)\n",
    "\n",
    "plt.show()\n"
   ]
  },
  {
   "cell_type": "markdown",
   "metadata": {},
   "source": [
    "<p>Let's take a look at a mystery/randomly generated DataFrame, and plot the results</p>"
   ]
  },
  {
   "cell_type": "code",
   "execution_count": null,
   "metadata": {},
   "outputs": [],
   "source": [
    "import pandas as pd\n",
    "import numpy as np\n",
    "\n",
    "def make_mystery_dataframe():\n",
    "    customer_id = np.random.randint(1000,1200,10000)\n",
    "    \n",
    "    states = {1: 'California', 0: 'Colorado'}\n",
    "    statelist = []\n",
    "    agelist = []\n",
    "    \n",
    "    for i in range(10000):\n",
    "        ind = np.random.randint(0,2)\n",
    "        if ind == 0:\n",
    "            statelist.append(states[ind])\n",
    "            agelist.append(np.random.normal(loc = 30, scale = 10))\n",
    "        elif ind == 1:\n",
    "            statelist.append(states[ind])\n",
    "            agelist.append(np.random.normal(loc = 40, scale = 20))\n",
    "    \n",
    "    mystery_df = pd.DataFrame.from_dict({\n",
    "        'customer_id': customer_id,\n",
    "        'ages':agelist,\n",
    "        'state': statelist\n",
    "    })\n",
    "    \n",
    "    return mystery_df\n",
    "\n",
    "df = make_mystery_dataframe()\n",
    "df.head(20)\n"
   ]
  },
  {
   "cell_type": "code",
   "execution_count": null,
   "metadata": {},
   "outputs": [],
   "source": [
    "fig, (ax1, ax2) = plt.subplots(1, 2, figsize=(20, 10))\n",
    "\n",
    "ax1.hist(df[df['state'] == 'California']['ages'], bins=80, label='Age in Cali')\n",
    "ax1.set_xlabel('Value', fontname = 'Times New Roman', fontsize = 35)\n",
    "ax1.set_ylabel('Frequency', fontname = 'Times New Roman', fontsize = 35)\n",
    "ax1.tick_params(axis = 'both', labelsize = 30)\n",
    "ax1.legend(loc = 'upper left', fontsize = 30)\n",
    "\n",
    "ax2.hist(df[df['state'] == 'Colorado']['ages'], bins=80, label='Age in Colorado')\n",
    "ax1.set_xlabel('Value', fontname = 'Times New Roman', fontsize = 35)\n",
    "ax1.set_ylabel('Frequency', fontname = 'Times New Roman', fontsize = 35)\n",
    "ax1.tick_params(axis = 'both', labelsize = 30)\n",
    "ax1.legend(loc = 'upper left', fontsize = 30)\n",
    "\n",
    "plt.show()"
   ]
  },
  {
   "cell_type": "code",
   "execution_count": null,
   "metadata": {},
   "outputs": [],
   "source": []
  }
 ],
 "metadata": {
  "kernelspec": {
   "display_name": "Python 3",
   "language": "python",
   "name": "python3"
  },
  "language_info": {
   "codemirror_mode": {
    "name": "ipython",
    "version": 3
   },
   "file_extension": ".py",
   "mimetype": "text/x-python",
   "name": "python",
   "nbconvert_exporter": "python",
   "pygments_lexer": "ipython3",
   "version": "3.7.6"
  }
 },
 "nbformat": 4,
 "nbformat_minor": 2
}
