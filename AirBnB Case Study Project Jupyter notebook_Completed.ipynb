{
 "cells": [
  {
   "cell_type": "markdown",
   "metadata": {},
   "source": [
    "# AirBnB NY Locations Data Case Study\n",
    "\n",
    "In this final project, you task will be to take the data provided and find evidance to answer the following questions.\n",
    "\n",
    "1. Which hosts are the busiest and why?\n",
    "2. How many neighborhood groups are available and which shows up the most?\n",
    "3. Are private rooms the most popular in manhattan?\n",
    "4. Which hosts are the busiest and based on their reviews?\n",
    "5. Which neighorhood group has the highest average price?\n",
    "6. Which neighborhood group has the highest total price?\n",
    "7. Which top 5 hosts have the highest total price?\n",
    "8. Who currently has no (zero) availability with a review count of 100 or more?\n",
    "9. What host has the highest total of prices and where are they located?\n",
    "10. When did Danielle from Queens last receive a review?\n",
    "\n",
    "You will be given **4 hours** to complete this assignment. \n",
    "**Be Advised** I will go dark for this intire assignment time period. That said, any questions that you would like to ask about the data, or the project **MUST** be asked before the time starts. Once the time has started, I can no longer give information.\n",
    "\n",
    "This is to similate what you will face when you are out in the wild. \n",
    "\n",
    "Happy Coding!"
   ]
  },
  {
   "cell_type": "code",
   "execution_count": 1,
   "metadata": {},
   "outputs": [],
   "source": [
    "import numpy as np\n",
    "import pandas as pd\n",
    "import matplotlib.pyplot as plt"
   ]
  },
  {
   "cell_type": "code",
   "execution_count": 7,
   "metadata": {},
   "outputs": [
    {
     "data": {
      "text/html": [
       "<div>\n",
       "<style scoped>\n",
       "    .dataframe tbody tr th:only-of-type {\n",
       "        vertical-align: middle;\n",
       "    }\n",
       "\n",
       "    .dataframe tbody tr th {\n",
       "        vertical-align: top;\n",
       "    }\n",
       "\n",
       "    .dataframe thead th {\n",
       "        text-align: right;\n",
       "    }\n",
       "</style>\n",
       "<table border=\"1\" class=\"dataframe\">\n",
       "  <thead>\n",
       "    <tr style=\"text-align: right;\">\n",
       "      <th></th>\n",
       "      <th>id</th>\n",
       "      <th>name</th>\n",
       "      <th>host_id</th>\n",
       "      <th>host_name</th>\n",
       "      <th>neighbourhood_group</th>\n",
       "      <th>neighbourhood</th>\n",
       "      <th>latitude</th>\n",
       "      <th>longitude</th>\n",
       "      <th>room_type</th>\n",
       "      <th>price</th>\n",
       "      <th>minimum_nights</th>\n",
       "      <th>number_of_reviews</th>\n",
       "      <th>last_review</th>\n",
       "      <th>reviews_per_month</th>\n",
       "      <th>calculated_host_listings_count</th>\n",
       "      <th>availability_365</th>\n",
       "    </tr>\n",
       "  </thead>\n",
       "  <tbody>\n",
       "    <tr>\n",
       "      <th>0</th>\n",
       "      <td>2539</td>\n",
       "      <td>Clean &amp; quiet apt home by the park</td>\n",
       "      <td>2787</td>\n",
       "      <td>John</td>\n",
       "      <td>Brooklyn</td>\n",
       "      <td>Kensington</td>\n",
       "      <td>40.64749</td>\n",
       "      <td>-73.97237</td>\n",
       "      <td>Private room</td>\n",
       "      <td>149</td>\n",
       "      <td>1</td>\n",
       "      <td>9</td>\n",
       "      <td>2018-10-19</td>\n",
       "      <td>0.21</td>\n",
       "      <td>6</td>\n",
       "      <td>365</td>\n",
       "    </tr>\n",
       "    <tr>\n",
       "      <th>1</th>\n",
       "      <td>2595</td>\n",
       "      <td>Skylit Midtown Castle</td>\n",
       "      <td>2845</td>\n",
       "      <td>Jennifer</td>\n",
       "      <td>Manhattan</td>\n",
       "      <td>Midtown</td>\n",
       "      <td>40.75362</td>\n",
       "      <td>-73.98377</td>\n",
       "      <td>Entire home/apt</td>\n",
       "      <td>225</td>\n",
       "      <td>1</td>\n",
       "      <td>45</td>\n",
       "      <td>2019-05-21</td>\n",
       "      <td>0.38</td>\n",
       "      <td>2</td>\n",
       "      <td>355</td>\n",
       "    </tr>\n",
       "    <tr>\n",
       "      <th>2</th>\n",
       "      <td>3647</td>\n",
       "      <td>THE VILLAGE OF HARLEM....NEW YORK !</td>\n",
       "      <td>4632</td>\n",
       "      <td>Elisabeth</td>\n",
       "      <td>Manhattan</td>\n",
       "      <td>Harlem</td>\n",
       "      <td>40.80902</td>\n",
       "      <td>-73.94190</td>\n",
       "      <td>Private room</td>\n",
       "      <td>150</td>\n",
       "      <td>3</td>\n",
       "      <td>0</td>\n",
       "      <td>NaN</td>\n",
       "      <td>NaN</td>\n",
       "      <td>1</td>\n",
       "      <td>365</td>\n",
       "    </tr>\n",
       "    <tr>\n",
       "      <th>3</th>\n",
       "      <td>3831</td>\n",
       "      <td>Cozy Entire Floor of Brownstone</td>\n",
       "      <td>4869</td>\n",
       "      <td>LisaRoxanne</td>\n",
       "      <td>Brooklyn</td>\n",
       "      <td>Clinton Hill</td>\n",
       "      <td>40.68514</td>\n",
       "      <td>-73.95976</td>\n",
       "      <td>Entire home/apt</td>\n",
       "      <td>89</td>\n",
       "      <td>1</td>\n",
       "      <td>270</td>\n",
       "      <td>2019-07-05</td>\n",
       "      <td>4.64</td>\n",
       "      <td>1</td>\n",
       "      <td>194</td>\n",
       "    </tr>\n",
       "    <tr>\n",
       "      <th>4</th>\n",
       "      <td>5022</td>\n",
       "      <td>Entire Apt: Spacious Studio/Loft by central park</td>\n",
       "      <td>7192</td>\n",
       "      <td>Laura</td>\n",
       "      <td>Manhattan</td>\n",
       "      <td>East Harlem</td>\n",
       "      <td>40.79851</td>\n",
       "      <td>-73.94399</td>\n",
       "      <td>Entire home/apt</td>\n",
       "      <td>80</td>\n",
       "      <td>10</td>\n",
       "      <td>9</td>\n",
       "      <td>2018-11-19</td>\n",
       "      <td>0.10</td>\n",
       "      <td>1</td>\n",
       "      <td>0</td>\n",
       "    </tr>\n",
       "  </tbody>\n",
       "</table>\n",
       "</div>"
      ],
      "text/plain": [
       "     id                                              name  host_id  \\\n",
       "0  2539                Clean & quiet apt home by the park     2787   \n",
       "1  2595                             Skylit Midtown Castle     2845   \n",
       "2  3647               THE VILLAGE OF HARLEM....NEW YORK !     4632   \n",
       "3  3831                   Cozy Entire Floor of Brownstone     4869   \n",
       "4  5022  Entire Apt: Spacious Studio/Loft by central park     7192   \n",
       "\n",
       "     host_name neighbourhood_group neighbourhood  latitude  longitude  \\\n",
       "0         John            Brooklyn    Kensington  40.64749  -73.97237   \n",
       "1     Jennifer           Manhattan       Midtown  40.75362  -73.98377   \n",
       "2    Elisabeth           Manhattan        Harlem  40.80902  -73.94190   \n",
       "3  LisaRoxanne            Brooklyn  Clinton Hill  40.68514  -73.95976   \n",
       "4        Laura           Manhattan   East Harlem  40.79851  -73.94399   \n",
       "\n",
       "         room_type  price  minimum_nights  number_of_reviews last_review  \\\n",
       "0     Private room    149               1                  9  2018-10-19   \n",
       "1  Entire home/apt    225               1                 45  2019-05-21   \n",
       "2     Private room    150               3                  0         NaN   \n",
       "3  Entire home/apt     89               1                270  2019-07-05   \n",
       "4  Entire home/apt     80              10                  9  2018-11-19   \n",
       "\n",
       "   reviews_per_month  calculated_host_listings_count  availability_365  \n",
       "0               0.21                               6               365  \n",
       "1               0.38                               2               355  \n",
       "2                NaN                               1               365  \n",
       "3               4.64                               1               194  \n",
       "4               0.10                               1                 0  "
      ]
     },
     "execution_count": 7,
     "metadata": {},
     "output_type": "execute_result"
    }
   ],
   "source": [
    "air_bnb = pd.read_csv(r'C:\\Users\\jason\\Downloads\\AB_NYC_2019 - AB_NYC_2019.csv', sep = ',')\n",
    "air_bnb.head()"
   ]
  },
  {
   "cell_type": "code",
   "execution_count": 8,
   "metadata": {},
   "outputs": [
    {
     "data": {
      "text/plain": [
       "Manhattan        21661\n",
       "Brooklyn         20104\n",
       "Queens            5666\n",
       "Bronx             1091\n",
       "Staten Island      373\n",
       "Name: neighbourhood_group, dtype: int64"
      ]
     },
     "execution_count": 8,
     "metadata": {},
     "output_type": "execute_result"
    }
   ],
   "source": [
    "# How many neighborhood groups are available and which shows up the most?\n",
    "df = pd.DataFrame(air_bnb)\n",
    "\n",
    "df['neighbourhood_group'].value_counts()\n",
    "\n"
   ]
  },
  {
   "cell_type": "code",
   "execution_count": 9,
   "metadata": {},
   "outputs": [
    {
     "data": {
      "text/plain": [
       "Entire home/apt    25409\n",
       "Private room       22326\n",
       "Shared room         1160\n",
       "Name: room_type, dtype: int64"
      ]
     },
     "execution_count": 9,
     "metadata": {},
     "output_type": "execute_result"
    }
   ],
   "source": [
    "# Are private rooms the most popular in manhattan?\n",
    "df = pd.DataFrame(air_bnb)\n",
    "\n",
    "df['room_type'].value_counts()\n"
   ]
  },
  {
   "cell_type": "code",
   "execution_count": 12,
   "metadata": {},
   "outputs": [
    {
     "name": "stdout",
     "output_type": "stream",
     "text": [
      "             id                                               name   host_id  \\\n",
      "0          2539                 Clean & quiet apt home by the park      2787   \n",
      "1          2595                              Skylit Midtown Castle      2845   \n",
      "2          3647                THE VILLAGE OF HARLEM....NEW YORK !      4632   \n",
      "3          3831                    Cozy Entire Floor of Brownstone      4869   \n",
      "4          5022   Entire Apt: Spacious Studio/Loft by central park      7192   \n",
      "...         ...                                                ...       ...   \n",
      "48890  36484665    Charming one bedroom - newly renovated rowhouse   8232441   \n",
      "48891  36485057      Affordable room in Bushwick/East Williamsburg   6570630   \n",
      "48892  36485431            Sunny Studio at Historical Neighborhood  23492952   \n",
      "48893  36485609               43rd St. Time Square-cozy single bed  30985759   \n",
      "48894  36487245  Trendy duplex in the very heart of Hell's Kitchen  68119814   \n",
      "\n",
      "           host_name neighbourhood_group       neighbourhood  latitude  \\\n",
      "0               John            Brooklyn          Kensington  40.64749   \n",
      "1           Jennifer           Manhattan             Midtown  40.75362   \n",
      "2          Elisabeth           Manhattan              Harlem  40.80902   \n",
      "3        LisaRoxanne            Brooklyn        Clinton Hill  40.68514   \n",
      "4              Laura           Manhattan         East Harlem  40.79851   \n",
      "...              ...                 ...                 ...       ...   \n",
      "48890        Sabrina            Brooklyn  Bedford-Stuyvesant  40.67853   \n",
      "48891        Marisol            Brooklyn            Bushwick  40.70184   \n",
      "48892  Ilgar & Aysel           Manhattan              Harlem  40.81475   \n",
      "48893            Taz           Manhattan      Hell's Kitchen  40.75751   \n",
      "48894     Christophe           Manhattan      Hell's Kitchen  40.76404   \n",
      "\n",
      "       longitude        room_type  price  minimum_nights  number_of_reviews  \\\n",
      "0      -73.97237     Private room    149               1                  9   \n",
      "1      -73.98377  Entire home/apt    225               1                 45   \n",
      "2      -73.94190     Private room    150               3                  0   \n",
      "3      -73.95976  Entire home/apt     89               1                270   \n",
      "4      -73.94399  Entire home/apt     80              10                  9   \n",
      "...          ...              ...    ...             ...                ...   \n",
      "48890  -73.94995     Private room     70               2                  0   \n",
      "48891  -73.93317     Private room     40               4                  0   \n",
      "48892  -73.94867  Entire home/apt    115              10                  0   \n",
      "48893  -73.99112      Shared room     55               1                  0   \n",
      "48894  -73.98933     Private room     90               7                  0   \n",
      "\n",
      "      last_review  reviews_per_month  calculated_host_listings_count  \\\n",
      "0      2018-10-19               0.21                               6   \n",
      "1      2019-05-21               0.38                               2   \n",
      "2             NaN                NaN                               1   \n",
      "3      2019-07-05               4.64                               1   \n",
      "4      2018-11-19               0.10                               1   \n",
      "...           ...                ...                             ...   \n",
      "48890         NaN                NaN                               2   \n",
      "48891         NaN                NaN                               2   \n",
      "48892         NaN                NaN                               1   \n",
      "48893         NaN                NaN                               6   \n",
      "48894         NaN                NaN                               1   \n",
      "\n",
      "       availability_365  host_rank  \n",
      "0                   365      210.0  \n",
      "1                   355       64.0  \n",
      "2                   365        NaN  \n",
      "3                   194        1.0  \n",
      "4                     0      112.5  \n",
      "...                 ...        ...  \n",
      "48890                 9        NaN  \n",
      "48891                36        NaN  \n",
      "48892                27        NaN  \n",
      "48893                 2        NaN  \n",
      "48894                23        NaN  \n",
      "\n",
      "[48895 rows x 17 columns]\n"
     ]
    }
   ],
   "source": [
    "# Which hosts are the busiest and based on their reviews?\n",
    "df = pd.DataFrame(air_bnb)\n",
    "\n",
    "df['host_rank'] = df.groupby('host_name')['reviews_per_month'].rank(ascending=False)\n",
    "\n",
    "print(df)"
   ]
  },
  {
   "cell_type": "code",
   "execution_count": 14,
   "metadata": {},
   "outputs": [
    {
     "name": "stdout",
     "output_type": "stream",
     "text": [
      "                          price\n",
      "neighbourhood_group            \n",
      "Manhattan            196.875814\n",
      "Brooklyn             124.383207\n",
      "Staten Island        114.812332\n",
      "Queens                99.517649\n",
      "Bronx                 87.496792\n"
     ]
    }
   ],
   "source": [
    "#Which neighorhood group has the highest average price?\n",
    "\n",
    "df = pd.DataFrame(air_bnb)\n",
    "\n",
    "result = df.groupby('neighbourhood_group').agg({'price':'mean'}).sort_values(['price'],ascending=False)\n",
    "\n",
    "print(result)\n"
   ]
  },
  {
   "cell_type": "code",
   "execution_count": 15,
   "metadata": {},
   "outputs": [
    {
     "name": "stdout",
     "output_type": "stream",
     "text": [
      "                       price\n",
      "neighbourhood_group         \n",
      "Manhattan            4264527\n",
      "Brooklyn             2500600\n",
      "Queens                563867\n",
      "Bronx                  95459\n",
      "Staten Island          42825\n"
     ]
    }
   ],
   "source": [
    "# Which neighbor hood group has the highest total price?\n",
    "df = pd.DataFrame(air_bnb)\n",
    "\n",
    "result = df.groupby('neighbourhood_group').agg({'price':'sum'}).sort_values(['price'],ascending=False)\n",
    "\n",
    "print(result)\n",
    "\n"
   ]
  },
  {
   "cell_type": "code",
   "execution_count": 45,
   "metadata": {},
   "outputs": [
    {
     "name": "stdout",
     "output_type": "stream",
     "text": [
      "              price\n",
      "host_name          \n",
      "Sonder (NYC)  82795\n",
      "Blueground    70331\n",
      "Michael       66895\n",
      "David         65844\n",
      "Alex          52563\n"
     ]
    }
   ],
   "source": [
    "#Which top 5 hosts have the highest total price?\n",
    "df = pd.DataFrame(air_bnb)\n",
    "\n",
    "result = df.groupby('host_name').agg({'price':'sum'}).sort_values(['price'],ascending=False)\n",
    "\n",
    "print(result.iloc[:5])"
   ]
  },
  {
   "cell_type": "code",
   "execution_count": 120,
   "metadata": {},
   "outputs": [
    {
     "name": "stdout",
     "output_type": "stream",
     "text": [
      "Empty DataFrame\n",
      "Columns: [id, name, host_id, host_name, neighbourhood_group, neighbourhood, latitude, longitude, room_type, price, minimum_nights, number_of_reviews, last_review, reviews_per_month, calculated_host_listings_count, availability_365, host_rank]\n",
      "Index: []\n"
     ]
    }
   ],
   "source": [
    "# Who currently has no (zero) availability with a review count of 100 or more?\n",
    "df = pd.DataFrame(air_bnb)[(air_bnb['number_of_reviews']>=100) & (air_bnb['availability_365']==0)]\n",
    "\n",
    "print(result)\n"
   ]
  },
  {
   "cell_type": "code",
   "execution_count": 112,
   "metadata": {},
   "outputs": [
    {
     "name": "stdout",
     "output_type": "stream",
     "text": [
      "                                 price\n",
      "host_name    neighbourhood            \n",
      "Sonder (NYC) Financial District  57738\n"
     ]
    }
   ],
   "source": [
    "# What host has the highest total of prices and where are they located?\n",
    "df = pd.DataFrame(air_bnb)\n",
    "\n",
    "result = df.groupby(['host_name', 'neighbourhood']).agg({'price':'sum'}).sort_values('price', ascending=False)\n",
    "\n",
    "\n",
    "\n",
    "print(result.iloc[:1])\n",
    "\n",
    "\n",
    "\n"
   ]
  },
  {
   "cell_type": "code",
   "execution_count": 119,
   "metadata": {},
   "outputs": [
    {
     "name": "stdout",
     "output_type": "stream",
     "text": [
      "7086     2019-07-03\n",
      "16349           NaN\n",
      "20403    2019-07-06\n",
      "21517    2019-07-07\n",
      "22068    2019-07-06\n",
      "22469    2019-07-08\n",
      "27021    2018-01-02\n",
      "33861    2019-06-20\n",
      "Name: last_review, dtype: object\n"
     ]
    }
   ],
   "source": [
    "# When did Danielle from Queens last receive a review?\n",
    "df = pd.DataFrame(air_bnb)[(air_bnb['host_name'] =='Danielle') & (air_bnb['neighbourhood_group'] =='Queens')]\n",
    "\n",
    "print(df['last_review'])\n",
    "\n",
    "\n"
   ]
  },
  {
   "cell_type": "markdown",
   "metadata": {},
   "source": [
    "## Further Questions\n",
    "\n",
    "1. Which host has the most listings?"
   ]
  },
  {
   "cell_type": "code",
   "execution_count": 121,
   "metadata": {},
   "outputs": [
    {
     "name": "stdout",
     "output_type": "stream",
     "text": [
      "             id                                               name   host_id  \\\n",
      "0          2539                 Clean & quiet apt home by the park      2787   \n",
      "1          2595                              Skylit Midtown Castle      2845   \n",
      "2          3647                THE VILLAGE OF HARLEM....NEW YORK !      4632   \n",
      "3          3831                    Cozy Entire Floor of Brownstone      4869   \n",
      "4          5022   Entire Apt: Spacious Studio/Loft by central park      7192   \n",
      "...         ...                                                ...       ...   \n",
      "48890  36484665    Charming one bedroom - newly renovated rowhouse   8232441   \n",
      "48891  36485057      Affordable room in Bushwick/East Williamsburg   6570630   \n",
      "48892  36485431            Sunny Studio at Historical Neighborhood  23492952   \n",
      "48893  36485609               43rd St. Time Square-cozy single bed  30985759   \n",
      "48894  36487245  Trendy duplex in the very heart of Hell's Kitchen  68119814   \n",
      "\n",
      "           host_name neighbourhood_group       neighbourhood  latitude  \\\n",
      "0               John            Brooklyn          Kensington  40.64749   \n",
      "1           Jennifer           Manhattan             Midtown  40.75362   \n",
      "2          Elisabeth           Manhattan              Harlem  40.80902   \n",
      "3        LisaRoxanne            Brooklyn        Clinton Hill  40.68514   \n",
      "4              Laura           Manhattan         East Harlem  40.79851   \n",
      "...              ...                 ...                 ...       ...   \n",
      "48890        Sabrina            Brooklyn  Bedford-Stuyvesant  40.67853   \n",
      "48891        Marisol            Brooklyn            Bushwick  40.70184   \n",
      "48892  Ilgar & Aysel           Manhattan              Harlem  40.81475   \n",
      "48893            Taz           Manhattan      Hell's Kitchen  40.75751   \n",
      "48894     Christophe           Manhattan      Hell's Kitchen  40.76404   \n",
      "\n",
      "       longitude        room_type  price  minimum_nights  number_of_reviews  \\\n",
      "0      -73.97237     Private room    149               1                  9   \n",
      "1      -73.98377  Entire home/apt    225               1                 45   \n",
      "2      -73.94190     Private room    150               3                  0   \n",
      "3      -73.95976  Entire home/apt     89               1                270   \n",
      "4      -73.94399  Entire home/apt     80              10                  9   \n",
      "...          ...              ...    ...             ...                ...   \n",
      "48890  -73.94995     Private room     70               2                  0   \n",
      "48891  -73.93317     Private room     40               4                  0   \n",
      "48892  -73.94867  Entire home/apt    115              10                  0   \n",
      "48893  -73.99112      Shared room     55               1                  0   \n",
      "48894  -73.98933     Private room     90               7                  0   \n",
      "\n",
      "      last_review  reviews_per_month  calculated_host_listings_count  \\\n",
      "0      2018-10-19               0.21                               6   \n",
      "1      2019-05-21               0.38                               2   \n",
      "2             NaN                NaN                               1   \n",
      "3      2019-07-05               4.64                               1   \n",
      "4      2018-11-19               0.10                               1   \n",
      "...           ...                ...                             ...   \n",
      "48890         NaN                NaN                               2   \n",
      "48891         NaN                NaN                               2   \n",
      "48892         NaN                NaN                               1   \n",
      "48893         NaN                NaN                               6   \n",
      "48894         NaN                NaN                               1   \n",
      "\n",
      "       availability_365  host_rank  \n",
      "0                   365       71.5  \n",
      "1                   355       16.5  \n",
      "2                   365        8.0  \n",
      "3                   194        1.0  \n",
      "4                     0      123.0  \n",
      "...                 ...        ...  \n",
      "48890                 9        1.5  \n",
      "48891                36        2.5  \n",
      "48892                27        1.0  \n",
      "48893                 2        3.5  \n",
      "48894                23        5.0  \n",
      "\n",
      "[48895 rows x 17 columns]\n"
     ]
    }
   ],
   "source": [
    "df = pd.DataFrame(air_bnb)\n",
    "\n",
    "df['host_rank'] = df.groupby('host_name')['calculated_host_listings_count'].rank(ascending=False)\n",
    "\n",
    "print(df)"
   ]
  },
  {
   "cell_type": "markdown",
   "metadata": {},
   "source": [
    "2. How many listings have completely open availability?"
   ]
  },
  {
   "cell_type": "code",
   "execution_count": 125,
   "metadata": {},
   "outputs": [
    {
     "name": "stdout",
     "output_type": "stream",
     "text": [
      "48895\n"
     ]
    }
   ],
   "source": [
    "df = pd.DataFrame(air_bnb)\n",
    "\n",
    "df[air_bnb['availability_365'] == 365]\n",
    "\n",
    "print(df['id'].count())"
   ]
  },
  {
   "cell_type": "markdown",
   "metadata": {},
   "source": [
    "3. What room_types have the highest review numbers?"
   ]
  },
  {
   "cell_type": "code",
   "execution_count": 127,
   "metadata": {},
   "outputs": [
    {
     "name": "stdout",
     "output_type": "stream",
     "text": [
      "0           Private room\n",
      "1        Entire home/apt\n",
      "2           Private room\n",
      "3        Entire home/apt\n",
      "4        Entire home/apt\n",
      "              ...       \n",
      "48890       Private room\n",
      "48891       Private room\n",
      "48892    Entire home/apt\n",
      "48893        Shared room\n",
      "48894       Private room\n",
      "Name: room_type, Length: 48895, dtype: object\n"
     ]
    }
   ],
   "source": [
    "df = pd.DataFrame(air_bnb)\n",
    "\n",
    "df['room_type_rank'] = df.groupby('room_type')['reviews_per_month'].rank(ascending=False)\n",
    "\n",
    "print(df['room_type'])"
   ]
  },
  {
   "cell_type": "markdown",
   "metadata": {},
   "source": [
    "# Final Conclusion\n",
    "\n",
    "In this cell, write your final conclusion for each of the questions asked.\n",
    "\n",
    "Also, if you uncovered some more details that were not asked above, please discribe them here.\n",
    "\n",
    "-- Add your conclusion --"
   ]
  },
  {
   "cell_type": "code",
   "execution_count": null,
   "metadata": {},
   "outputs": [],
   "source": [
    "\n",
    "\n"
   ]
  }
 ],
 "metadata": {
  "kernelspec": {
   "display_name": "Python 3",
   "language": "python",
   "name": "python3"
  },
  "language_info": {
   "codemirror_mode": {
    "name": "ipython",
    "version": 3
   },
   "file_extension": ".py",
   "mimetype": "text/x-python",
   "name": "python",
   "nbconvert_exporter": "python",
   "pygments_lexer": "ipython3",
   "version": "3.8.2 (tags/v3.8.2:7b3ab59, Feb 25 2020, 23:03:10) [MSC v.1916 64 bit (AMD64)]"
  },
  "vscode": {
   "interpreter": {
    "hash": "507317297c2071b102c545a8005e942338072417761d163cf09c6958a8af51fa"
   }
  }
 },
 "nbformat": 4,
 "nbformat_minor": 2
}
