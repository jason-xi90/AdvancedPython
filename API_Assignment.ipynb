{
 "cells": [
  {
   "cell_type": "code",
   "execution_count": 2,
   "id": "57ae638f",
   "metadata": {},
   "outputs": [
    {
     "name": "stdout",
     "output_type": "stream",
     "text": [
      "Collecting requests\n",
      "  Downloading requests-2.28.2-py3-none-any.whl (62 kB)\n",
      "     ---------------------------------------- 62.8/62.8 kB 3.3 MB/s eta 0:00:00\n",
      "Collecting charset-normalizer<4,>=2\n",
      "  Downloading charset_normalizer-3.0.1-cp38-cp38-win_amd64.whl (95 kB)\n",
      "     ---------------------------------------- 95.8/95.8 kB ? eta 0:00:00\n",
      "Collecting idna<4,>=2.5\n",
      "  Downloading idna-3.4-py3-none-any.whl (61 kB)\n",
      "     ---------------------------------------- 61.5/61.5 kB ? eta 0:00:00\n",
      "Collecting urllib3<1.27,>=1.21.1\n",
      "  Downloading urllib3-1.26.14-py2.py3-none-any.whl (140 kB)\n",
      "     -------------------------------------- 140.6/140.6 kB 8.2 MB/s eta 0:00:00\n",
      "Collecting certifi>=2017.4.17\n",
      "  Downloading certifi-2022.12.7-py3-none-any.whl (155 kB)\n",
      "     -------------------------------------- 155.3/155.3 kB 9.1 MB/s eta 0:00:00\n",
      "Installing collected packages: charset-normalizer, urllib3, idna, certifi, requests\n",
      "Successfully installed certifi-2022.12.7 charset-normalizer-3.0.1 idna-3.4 requests-2.28.2 urllib3-1.26.14\n",
      "Note: you may need to restart the kernel to use updated packages.\n"
     ]
    },
    {
     "name": "stderr",
     "output_type": "stream",
     "text": [
      "\n",
      "[notice] A new release of pip available: 22.2.2 -> 23.0\n",
      "[notice] To update, run: python.exe -m pip install --upgrade pip\n"
     ]
    }
   ],
   "source": [
    "pip install requests"
   ]
  },
  {
   "cell_type": "code",
   "execution_count": 3,
   "id": "b2198d3d",
   "metadata": {},
   "outputs": [
    {
     "name": "stdout",
     "output_type": "stream",
     "text": [
      "[{'ivysaur': {'abilities': 'overgrow', 'type': 'grass', 'weight': 130}}]\n"
     ]
    }
   ],
   "source": [
    "import requests, json\n",
    "\n",
    "url = 'https://pokeapi.co/api/v2/pokemon/2/'\n",
    "\n",
    "response = requests.get(url)\n",
    "\n",
    "pokemon_name = response.json()['forms'][0]['name']\n",
    "pokemon_abilities = response.json()['abilities'][0]['ability']['name']\n",
    "pokemon_type = response.json()['types'][0]['type']['name']\n",
    "pokemon_weight = response.json()['weight']\n",
    "\n",
    "new_data = []\n",
    "    \n",
    "pokemon_dict = {}\n",
    "pokemon_dict[pokemon_name]={\n",
    "        'abilities':pokemon_abilities,\n",
    "        'type':pokemon_type,\n",
    "        'weight':pokemon_weight\n",
    "        }\n",
    "new_data.append(pokemon_dict)\n",
    "print(new_data)\n"
   ]
  },
  {
   "cell_type": "code",
   "execution_count": 4,
   "id": "a3497351",
   "metadata": {},
   "outputs": [
    {
     "name": "stdout",
     "output_type": "stream",
     "text": [
      "[{'venusaur': {'abilities': 'overgrow', 'type': 'grass', 'weight': 1000}}]\n"
     ]
    }
   ],
   "source": [
    "import requests, json\n",
    "\n",
    "url = 'https://pokeapi.co/api/v2/pokemon/3/'\n",
    "\n",
    "response = requests.get(url)\n",
    "\n",
    "pokemon_name = response.json()['forms'][0]['name']\n",
    "pokemon_abilities = response.json()['abilities'][0]['ability']['name']\n",
    "pokemon_type = response.json()['types'][0]['type']['name']\n",
    "pokemon_weight = response.json()['weight']\n",
    "\n",
    "new_data = []\n",
    "    \n",
    "pokemon_dict = {}\n",
    "pokemon_dict[pokemon_name]={\n",
    "        'abilities':pokemon_abilities,\n",
    "        'type':pokemon_type,\n",
    "        'weight':pokemon_weight\n",
    "        }\n",
    "new_data.append(pokemon_dict)\n",
    "print(new_data)"
   ]
  },
  {
   "cell_type": "code",
   "execution_count": 5,
   "id": "095100a8",
   "metadata": {},
   "outputs": [
    {
     "name": "stdout",
     "output_type": "stream",
     "text": [
      "[{'charmander': {'abilities': 'blaze', 'type': 'fire', 'weight': 85}}]\n"
     ]
    }
   ],
   "source": [
    "import requests, json\n",
    "\n",
    "url = 'https://pokeapi.co/api/v2/pokemon/4/'\n",
    "\n",
    "response = requests.get(url)\n",
    "\n",
    "pokemon_name = response.json()['forms'][0]['name']\n",
    "pokemon_abilities = response.json()['abilities'][0]['ability']['name']\n",
    "pokemon_type = response.json()['types'][0]['type']['name']\n",
    "pokemon_weight = response.json()['weight']\n",
    "\n",
    "new_data = []\n",
    "    \n",
    "pokemon_dict = {}\n",
    "pokemon_dict[pokemon_name]={\n",
    "        'abilities':pokemon_abilities,\n",
    "        'type':pokemon_type,\n",
    "        'weight':pokemon_weight\n",
    "        }\n",
    "new_data.append(pokemon_dict)\n",
    "print(new_data)"
   ]
  },
  {
   "cell_type": "code",
   "execution_count": 6,
   "id": "a50789d5",
   "metadata": {},
   "outputs": [
    {
     "name": "stdout",
     "output_type": "stream",
     "text": [
      "[{'charmeleon': {'abilities': 'blaze', 'type': 'fire', 'weight': 190}}]\n"
     ]
    }
   ],
   "source": [
    "import requests, json\n",
    "\n",
    "url = 'https://pokeapi.co/api/v2/pokemon/5/'\n",
    "\n",
    "response = requests.get(url)\n",
    "\n",
    "pokemon_name = response.json()['forms'][0]['name']\n",
    "pokemon_abilities = response.json()['abilities'][0]['ability']['name']\n",
    "pokemon_type = response.json()['types'][0]['type']['name']\n",
    "pokemon_weight = response.json()['weight']\n",
    "\n",
    "new_data = []\n",
    "    \n",
    "pokemon_dict = {}\n",
    "pokemon_dict[pokemon_name]={\n",
    "        'abilities':pokemon_abilities,\n",
    "        'type':pokemon_type,\n",
    "        'weight':pokemon_weight\n",
    "        }\n",
    "new_data.append(pokemon_dict)\n",
    "print(new_data)"
   ]
  },
  {
   "cell_type": "code",
   "execution_count": 7,
   "id": "abb68e9f",
   "metadata": {},
   "outputs": [
    {
     "name": "stdout",
     "output_type": "stream",
     "text": [
      "[{'charizard': {'abilities': 'blaze', 'type': 'fire', 'weight': 905}}]\n"
     ]
    }
   ],
   "source": [
    "import requests, json\n",
    "\n",
    "url = 'https://pokeapi.co/api/v2/pokemon/6/'\n",
    "\n",
    "response = requests.get(url)\n",
    "\n",
    "pokemon_name = response.json()['forms'][0]['name']\n",
    "pokemon_abilities = response.json()['abilities'][0]['ability']['name']\n",
    "pokemon_type = response.json()['types'][0]['type']['name']\n",
    "pokemon_weight = response.json()['weight']\n",
    "\n",
    "new_data = []\n",
    "    \n",
    "pokemon_dict = {}\n",
    "pokemon_dict[pokemon_name]={\n",
    "        'abilities':pokemon_abilities,\n",
    "        'type':pokemon_type,\n",
    "        'weight':pokemon_weight\n",
    "        }\n",
    "new_data.append(pokemon_dict)\n",
    "print(new_data)"
   ]
  },
  {
   "cell_type": "code",
   "execution_count": 8,
   "id": "779f57ed",
   "metadata": {},
   "outputs": [
    {
     "name": "stdout",
     "output_type": "stream",
     "text": [
      "[{'squirtle': {'abilities': 'torrent', 'type': 'water', 'weight': 90}}]\n"
     ]
    }
   ],
   "source": [
    "import requests, json\n",
    "\n",
    "url = 'https://pokeapi.co/api/v2/pokemon/7/'\n",
    "\n",
    "response = requests.get(url)\n",
    "\n",
    "pokemon_name = response.json()['forms'][0]['name']\n",
    "pokemon_abilities = response.json()['abilities'][0]['ability']['name']\n",
    "pokemon_type = response.json()['types'][0]['type']['name']\n",
    "pokemon_weight = response.json()['weight']\n",
    "\n",
    "new_data = []\n",
    "    \n",
    "pokemon_dict = {}\n",
    "pokemon_dict[pokemon_name]={\n",
    "        'abilities':pokemon_abilities,\n",
    "        'type':pokemon_type,\n",
    "        'weight':pokemon_weight\n",
    "        }\n",
    "new_data.append(pokemon_dict)\n",
    "print(new_data)"
   ]
  },
  {
   "cell_type": "code",
   "execution_count": 9,
   "id": "26e8a139",
   "metadata": {},
   "outputs": [
    {
     "name": "stdout",
     "output_type": "stream",
     "text": [
      "[{'wartortle': {'abilities': 'torrent', 'type': 'water', 'weight': 225}}]\n"
     ]
    }
   ],
   "source": [
    "import requests, json\n",
    "\n",
    "url = 'https://pokeapi.co/api/v2/pokemon/8/'\n",
    "\n",
    "response = requests.get(url)\n",
    "\n",
    "pokemon_name = response.json()['forms'][0]['name']\n",
    "pokemon_abilities = response.json()['abilities'][0]['ability']['name']\n",
    "pokemon_type = response.json()['types'][0]['type']['name']\n",
    "pokemon_weight = response.json()['weight']\n",
    "\n",
    "new_data = []\n",
    "    \n",
    "pokemon_dict = {}\n",
    "pokemon_dict[pokemon_name]={\n",
    "        'abilities':pokemon_abilities,\n",
    "        'type':pokemon_type,\n",
    "        'weight':pokemon_weight\n",
    "        }\n",
    "new_data.append(pokemon_dict)\n",
    "print(new_data)"
   ]
  },
  {
   "cell_type": "code",
   "execution_count": 10,
   "id": "dbfeadf6",
   "metadata": {},
   "outputs": [
    {
     "name": "stdout",
     "output_type": "stream",
     "text": [
      "[{'blastoise': {'abilities': 'torrent', 'type': 'water', 'weight': 855}}]\n"
     ]
    }
   ],
   "source": [
    "import requests, json\n",
    "\n",
    "url = 'https://pokeapi.co/api/v2/pokemon/9/'\n",
    "\n",
    "response = requests.get(url)\n",
    "\n",
    "pokemon_name = response.json()['forms'][0]['name']\n",
    "pokemon_abilities = response.json()['abilities'][0]['ability']['name']\n",
    "pokemon_type = response.json()['types'][0]['type']['name']\n",
    "pokemon_weight = response.json()['weight']\n",
    "\n",
    "new_data = []\n",
    "    \n",
    "pokemon_dict = {}\n",
    "pokemon_dict[pokemon_name]={\n",
    "        'abilities':pokemon_abilities,\n",
    "        'type':pokemon_type,\n",
    "        'weight':pokemon_weight\n",
    "        }\n",
    "new_data.append(pokemon_dict)\n",
    "print(new_data)"
   ]
  },
  {
   "cell_type": "code",
   "execution_count": 11,
   "id": "df92d619",
   "metadata": {},
   "outputs": [
    {
     "name": "stdout",
     "output_type": "stream",
     "text": [
      "[{'caterpie': {'abilities': 'shield-dust', 'type': 'bug', 'weight': 29}}]\n"
     ]
    }
   ],
   "source": [
    "import requests, json\n",
    "\n",
    "url = 'https://pokeapi.co/api/v2/pokemon/10/'\n",
    "\n",
    "response = requests.get(url)\n",
    "\n",
    "pokemon_name = response.json()['forms'][0]['name']\n",
    "pokemon_abilities = response.json()['abilities'][0]['ability']['name']\n",
    "pokemon_type = response.json()['types'][0]['type']['name']\n",
    "pokemon_weight = response.json()['weight']\n",
    "\n",
    "new_data = []\n",
    "    \n",
    "pokemon_dict = {}\n",
    "pokemon_dict[pokemon_name]={\n",
    "        'abilities':pokemon_abilities,\n",
    "        'type':pokemon_type,\n",
    "        'weight':pokemon_weight\n",
    "        }\n",
    "new_data.append(pokemon_dict)\n",
    "print(new_data)"
   ]
  },
  {
   "cell_type": "code",
   "execution_count": 12,
   "id": "6cd71784",
   "metadata": {},
   "outputs": [
    {
     "name": "stdout",
     "output_type": "stream",
     "text": [
      "[{'metapod': {'abilities': 'shed-skin', 'type': 'bug', 'weight': 99}}]\n"
     ]
    }
   ],
   "source": [
    "import requests, json\n",
    "\n",
    "url = 'https://pokeapi.co/api/v2/pokemon/11/'\n",
    "\n",
    "response = requests.get(url)\n",
    "\n",
    "pokemon_name = response.json()['forms'][0]['name']\n",
    "pokemon_abilities = response.json()['abilities'][0]['ability']['name']\n",
    "pokemon_type = response.json()['types'][0]['type']['name']\n",
    "pokemon_weight = response.json()['weight']\n",
    "\n",
    "new_data = []\n",
    "    \n",
    "pokemon_dict = {}\n",
    "pokemon_dict[pokemon_name]={\n",
    "        'abilities':pokemon_abilities,\n",
    "        'type':pokemon_type,\n",
    "        'weight':pokemon_weight\n",
    "        }\n",
    "new_data.append(pokemon_dict)\n",
    "print(new_data)"
   ]
  },
  {
   "cell_type": "code",
   "execution_count": 13,
   "id": "428cf715",
   "metadata": {},
   "outputs": [
    {
     "name": "stdout",
     "output_type": "stream",
     "text": [
      "[{'butterfree': {'abilities': 'compound-eyes', 'type': 'bug', 'weight': 320}}]\n"
     ]
    }
   ],
   "source": [
    "import requests, json\n",
    "\n",
    "url = 'https://pokeapi.co/api/v2/pokemon/12/'\n",
    "\n",
    "response = requests.get(url)\n",
    "\n",
    "pokemon_name = response.json()['forms'][0]['name']\n",
    "pokemon_abilities = response.json()['abilities'][0]['ability']['name']\n",
    "pokemon_type = response.json()['types'][0]['type']['name']\n",
    "pokemon_weight = response.json()['weight']\n",
    "\n",
    "new_data = []\n",
    "    \n",
    "pokemon_dict = {}\n",
    "pokemon_dict[pokemon_name]={\n",
    "        'abilities':pokemon_abilities,\n",
    "        'type':pokemon_type,\n",
    "        'weight':pokemon_weight\n",
    "        }\n",
    "new_data.append(pokemon_dict)\n",
    "print(new_data)"
   ]
  },
  {
   "cell_type": "code",
   "execution_count": 14,
   "id": "11c665e3",
   "metadata": {},
   "outputs": [
    {
     "name": "stdout",
     "output_type": "stream",
     "text": [
      "[{'weedle': {'abilities': 'shield-dust', 'type': 'bug', 'weight': 32}}]\n"
     ]
    }
   ],
   "source": [
    "import requests, json\n",
    "\n",
    "url = 'https://pokeapi.co/api/v2/pokemon/13/'\n",
    "\n",
    "response = requests.get(url)\n",
    "\n",
    "pokemon_name = response.json()['forms'][0]['name']\n",
    "pokemon_abilities = response.json()['abilities'][0]['ability']['name']\n",
    "pokemon_type = response.json()['types'][0]['type']['name']\n",
    "pokemon_weight = response.json()['weight']\n",
    "\n",
    "new_data = []\n",
    "    \n",
    "pokemon_dict = {}\n",
    "pokemon_dict[pokemon_name]={\n",
    "        'abilities':pokemon_abilities,\n",
    "        'type':pokemon_type,\n",
    "        'weight':pokemon_weight\n",
    "        }\n",
    "new_data.append(pokemon_dict)\n",
    "print(new_data)"
   ]
  },
  {
   "cell_type": "code",
   "execution_count": 15,
   "id": "83ead975",
   "metadata": {},
   "outputs": [
    {
     "name": "stdout",
     "output_type": "stream",
     "text": [
      "[{'kakuna': {'abilities': 'shed-skin', 'type': 'bug', 'weight': 100}}]\n"
     ]
    }
   ],
   "source": [
    "import requests, json\n",
    "\n",
    "url = 'https://pokeapi.co/api/v2/pokemon/14/'\n",
    "\n",
    "response = requests.get(url)\n",
    "\n",
    "pokemon_name = response.json()['forms'][0]['name']\n",
    "pokemon_abilities = response.json()['abilities'][0]['ability']['name']\n",
    "pokemon_type = response.json()['types'][0]['type']['name']\n",
    "pokemon_weight = response.json()['weight']\n",
    "\n",
    "new_data = []\n",
    "    \n",
    "pokemon_dict = {}\n",
    "pokemon_dict[pokemon_name]={\n",
    "        'abilities':pokemon_abilities,\n",
    "        'type':pokemon_type,\n",
    "        'weight':pokemon_weight\n",
    "        }\n",
    "new_data.append(pokemon_dict)\n",
    "print(new_data)"
   ]
  },
  {
   "cell_type": "code",
   "execution_count": 16,
   "id": "1defff47",
   "metadata": {},
   "outputs": [
    {
     "name": "stdout",
     "output_type": "stream",
     "text": [
      "[{'beedrill': {'abilities': 'swarm', 'type': 'bug', 'weight': 295}}]\n"
     ]
    }
   ],
   "source": [
    "import requests, json\n",
    "\n",
    "url = 'https://pokeapi.co/api/v2/pokemon/15/'\n",
    "\n",
    "response = requests.get(url)\n",
    "\n",
    "pokemon_name = response.json()['forms'][0]['name']\n",
    "pokemon_abilities = response.json()['abilities'][0]['ability']['name']\n",
    "pokemon_type = response.json()['types'][0]['type']['name']\n",
    "pokemon_weight = response.json()['weight']\n",
    "\n",
    "new_data = []\n",
    "    \n",
    "pokemon_dict = {}\n",
    "pokemon_dict[pokemon_name]={\n",
    "        'abilities':pokemon_abilities,\n",
    "        'type':pokemon_type,\n",
    "        'weight':pokemon_weight\n",
    "        }\n",
    "new_data.append(pokemon_dict)\n",
    "print(new_data)"
   ]
  },
  {
   "cell_type": "code",
   "execution_count": 17,
   "id": "364b4c3c",
   "metadata": {},
   "outputs": [
    {
     "name": "stdout",
     "output_type": "stream",
     "text": [
      "[{'pidgey': {'abilities': 'keen-eye', 'type': 'normal', 'weight': 18}}]\n"
     ]
    }
   ],
   "source": [
    "import requests, json\n",
    "\n",
    "url = 'https://pokeapi.co/api/v2/pokemon/16/'\n",
    "\n",
    "response = requests.get(url)\n",
    "\n",
    "pokemon_name = response.json()['forms'][0]['name']\n",
    "pokemon_abilities = response.json()['abilities'][0]['ability']['name']\n",
    "pokemon_type = response.json()['types'][0]['type']['name']\n",
    "pokemon_weight = response.json()['weight']\n",
    "\n",
    "new_data = []\n",
    "    \n",
    "pokemon_dict = {}\n",
    "pokemon_dict[pokemon_name]={\n",
    "        'abilities':pokemon_abilities,\n",
    "        'type':pokemon_type,\n",
    "        'weight':pokemon_weight\n",
    "        }\n",
    "new_data.append(pokemon_dict)\n",
    "print(new_data)"
   ]
  },
  {
   "cell_type": "code",
   "execution_count": 18,
   "id": "a777e11b",
   "metadata": {},
   "outputs": [
    {
     "name": "stdout",
     "output_type": "stream",
     "text": [
      "[{'pidgeotto': {'abilities': 'keen-eye', 'type': 'normal', 'weight': 300}}]\n"
     ]
    }
   ],
   "source": [
    "import requests, json\n",
    "\n",
    "url = 'https://pokeapi.co/api/v2/pokemon/17/'\n",
    "\n",
    "response = requests.get(url)\n",
    "\n",
    "pokemon_name = response.json()['forms'][0]['name']\n",
    "pokemon_abilities = response.json()['abilities'][0]['ability']['name']\n",
    "pokemon_type = response.json()['types'][0]['type']['name']\n",
    "pokemon_weight = response.json()['weight']\n",
    "\n",
    "new_data = []\n",
    "    \n",
    "pokemon_dict = {}\n",
    "pokemon_dict[pokemon_name]={\n",
    "        'abilities':pokemon_abilities,\n",
    "        'type':pokemon_type,\n",
    "        'weight':pokemon_weight\n",
    "        }\n",
    "new_data.append(pokemon_dict)\n",
    "print(new_data)"
   ]
  },
  {
   "cell_type": "code",
   "execution_count": 19,
   "id": "b17b3237",
   "metadata": {},
   "outputs": [
    {
     "name": "stdout",
     "output_type": "stream",
     "text": [
      "[{'pidgeot': {'abilities': 'keen-eye', 'type': 'normal', 'weight': 395}}]\n"
     ]
    }
   ],
   "source": [
    "import requests, json\n",
    "\n",
    "url = 'https://pokeapi.co/api/v2/pokemon/18/'\n",
    "\n",
    "response = requests.get(url)\n",
    "\n",
    "pokemon_name = response.json()['forms'][0]['name']\n",
    "pokemon_abilities = response.json()['abilities'][0]['ability']['name']\n",
    "pokemon_type = response.json()['types'][0]['type']['name']\n",
    "pokemon_weight = response.json()['weight']\n",
    "\n",
    "new_data = []\n",
    "    \n",
    "pokemon_dict = {}\n",
    "pokemon_dict[pokemon_name]={\n",
    "        'abilities':pokemon_abilities,\n",
    "        'type':pokemon_type,\n",
    "        'weight':pokemon_weight\n",
    "        }\n",
    "new_data.append(pokemon_dict)\n",
    "print(new_data)"
   ]
  },
  {
   "cell_type": "code",
   "execution_count": 20,
   "id": "f1cccbaf",
   "metadata": {},
   "outputs": [
    {
     "name": "stdout",
     "output_type": "stream",
     "text": [
      "[{'rattata': {'abilities': 'run-away', 'type': 'normal', 'weight': 35}}]\n"
     ]
    }
   ],
   "source": [
    "import requests, json\n",
    "\n",
    "url = 'https://pokeapi.co/api/v2/pokemon/19/'\n",
    "\n",
    "response = requests.get(url)\n",
    "\n",
    "pokemon_name = response.json()['forms'][0]['name']\n",
    "pokemon_abilities = response.json()['abilities'][0]['ability']['name']\n",
    "pokemon_type = response.json()['types'][0]['type']['name']\n",
    "pokemon_weight = response.json()['weight']\n",
    "\n",
    "new_data = []\n",
    "    \n",
    "pokemon_dict = {}\n",
    "pokemon_dict[pokemon_name]={\n",
    "        'abilities':pokemon_abilities,\n",
    "        'type':pokemon_type,\n",
    "        'weight':pokemon_weight\n",
    "        }\n",
    "new_data.append(pokemon_dict)\n",
    "print(new_data)"
   ]
  },
  {
   "cell_type": "code",
   "execution_count": 22,
   "id": "686b1417",
   "metadata": {},
   "outputs": [
    {
     "name": "stdout",
     "output_type": "stream",
     "text": [
      "[{'raticate': {'abilities': 'run-away', 'type': 'normal', 'weight': 185}}]\n"
     ]
    }
   ],
   "source": [
    "import requests, json\n",
    "\n",
    "url = 'https://pokeapi.co/api/v2/pokemon/20/'\n",
    "\n",
    "response = requests.get(url)\n",
    "\n",
    "pokemon_name = response.json()['forms'][0]['name']\n",
    "pokemon_abilities = response.json()['abilities'][0]['ability']['name']\n",
    "pokemon_type = response.json()['types'][0]['type']['name']\n",
    "pokemon_weight = response.json()['weight']\n",
    "\n",
    "new_data = []\n",
    "    \n",
    "pokemon_dict = {}\n",
    "pokemon_dict[pokemon_name]={\n",
    "        'abilities':pokemon_abilities,\n",
    "        'type':pokemon_type,\n",
    "        'weight':pokemon_weight\n",
    "        }\n",
    "new_data.append(pokemon_dict)\n",
    "print(new_data)"
   ]
  },
  {
   "cell_type": "code",
   "execution_count": 23,
   "id": "cc395d3d",
   "metadata": {},
   "outputs": [
    {
     "name": "stdout",
     "output_type": "stream",
     "text": [
      "[{'spearow': {'abilities': 'keen-eye', 'type': 'normal', 'weight': 20}}]\n"
     ]
    }
   ],
   "source": [
    "import requests, json\n",
    "\n",
    "url = 'https://pokeapi.co/api/v2/pokemon/21/'\n",
    "\n",
    "response = requests.get(url)\n",
    "\n",
    "pokemon_name = response.json()['forms'][0]['name']\n",
    "pokemon_abilities = response.json()['abilities'][0]['ability']['name']\n",
    "pokemon_type = response.json()['types'][0]['type']['name']\n",
    "pokemon_weight = response.json()['weight']\n",
    "\n",
    "new_data = []\n",
    "    \n",
    "pokemon_dict = {}\n",
    "pokemon_dict[pokemon_name]={\n",
    "        'abilities':pokemon_abilities,\n",
    "        'type':pokemon_type,\n",
    "        'weight':pokemon_weight\n",
    "        }\n",
    "new_data.append(pokemon_dict)\n",
    "print(new_data)"
   ]
  },
  {
   "cell_type": "code",
   "execution_count": null,
   "id": "4da74c6a",
   "metadata": {},
   "outputs": [],
   "source": []
  }
 ],
 "metadata": {
  "kernelspec": {
   "display_name": "Python 3 (ipykernel)",
   "language": "python",
   "name": "python3"
  },
  "language_info": {
   "codemirror_mode": {
    "name": "ipython",
    "version": 3
   },
   "file_extension": ".py",
   "mimetype": "text/x-python",
   "name": "python",
   "nbconvert_exporter": "python",
   "pygments_lexer": "ipython3",
   "version": "3.8.2"
  }
 },
 "nbformat": 4,
 "nbformat_minor": 5
}
