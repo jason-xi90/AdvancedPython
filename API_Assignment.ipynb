{
 "cells": [
  {
   "cell_type": "code",
   "execution_count": 23,
   "id": "406b4cc7",
   "metadata": {},
   "outputs": [
    {
     "name": "stdout",
     "output_type": "stream",
     "text": [
      "[{'ivysaur': {'abilities': 'overgrow', 'type': 'grass', 'weight': 130}}]\n"
     ]
    }
   ],
   "source": [
    "import requests, json\n",
    "\n",
    "url = 'https://pokeapi.co/api/v2/pokemon/2/'\n",
    "\n",
    "response = requests.get(url)\n",
    "\n",
    "pokemon_name = response.json()['forms'][0]['name']\n",
    "pokemon_abilities = response.json()['abilities'][0]['ability']['name']\n",
    "pokemon_type = response.json()['types'][0]['type']['name']\n",
    "pokemon_weight = response.json()['weight']\n",
    "\n",
    "new_data = []\n",
    "    \n",
    "pokemon_dict = {}\n",
    "pokemon_dict[pokemon_name]={\n",
    "        'abilities':pokemon_abilities,\n",
    "        'type':pokemon_type,\n",
    "        'weight':pokemon_weight\n",
    "        }\n",
    "new_data.append(pokemon_dict)\n",
    "print(new_data)\n"
   ]
  },
  {
   "cell_type": "code",
   "execution_count": null,
   "id": "57ae638f",
   "metadata": {},
   "outputs": [],
   "source": []
  }
 ],
 "metadata": {
  "kernelspec": {
   "display_name": "Python 3 (ipykernel)",
   "language": "python",
   "name": "python3"
  },
  "language_info": {
   "codemirror_mode": {
    "name": "ipython",
    "version": 3
   },
   "file_extension": ".py",
   "mimetype": "text/x-python",
   "name": "python",
   "nbconvert_exporter": "python",
   "pygments_lexer": "ipython3",
   "version": "3.9.13"
  }
 },
 "nbformat": 4,
 "nbformat_minor": 5
}
